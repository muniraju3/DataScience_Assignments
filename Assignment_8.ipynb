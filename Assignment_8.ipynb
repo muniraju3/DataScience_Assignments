{
 "cells": [
  {
   "cell_type": "code",
   "execution_count": null,
   "id": "67837eb9",
   "metadata": {},
   "outputs": [],
   "source": [
    "1. In Python, what is the difference between a built-in function and a user-defined function? Provide an\n",
    "example of each."
   ]
  },
  {
   "cell_type": "code",
   "execution_count": null,
   "id": "62372a45",
   "metadata": {},
   "outputs": [],
   "source": [
    "In Python, the difference between a built-in function and a user-defined function lies in their origin and availability.\n",
    "\n",
    "1)Built-in function:\n",
    "Built-in functions are pre-defined functions that are provided by the Python programming language. These functions are readily available and can be used without requiring any additional steps or importing modules. Examples of built-in functions include print(), len(), max(), min(), and type().\n",
    "Example of a built-in function:\n",
    "    result = len(\"Hello\")\n",
    "print(result)  # Output: 5\n",
    "\n",
    "2)User-defined function:\n",
    "User-defined functions are created by the users or developers to perform specific tasks or operations as per their requirements. These functions are defined using the def keyword followed by a function name, parentheses for optional parameters, and a colon to indicate the beginning of the function block. Users can define their own logic, encapsulate it within the function, and invoke it whenever needed.\n",
    "Example of a user-defined function:\n",
    "def greet(name):\n",
    "    print(\"Hello, \" + name + \"!\")\n",
    "\n",
    "greet(\"Muniraju\")  # Output: Hello, Muniraju!\n",
    "\n",
    "In this example, the user-defined function greet() is created to greet a person by name. The function takes a parameter name and prints a greeting message using that name.\n",
    "\n",
    "User-defined functions allow developers to modularize their code, improve reusability, and create custom operations tailored to their specific needs.\n",
    "\n",
    "In summary, built-in functions are provided by Python itself and readily available, while user-defined functions are created by users or developers to perform customized operations based on their requirements."
   ]
  },
  {
   "cell_type": "code",
   "execution_count": null,
   "id": "efaa3ab8",
   "metadata": {},
   "outputs": [],
   "source": []
  },
  {
   "cell_type": "code",
   "execution_count": null,
   "id": "f14b48ec",
   "metadata": {},
   "outputs": [],
   "source": [
    "2. How can you pass arguments to a function in Python? Explain the difference between positional\n",
    "arguments and keyword arguments."
   ]
  },
  {
   "cell_type": "code",
   "execution_count": null,
   "id": "04504ffe",
   "metadata": {},
   "outputs": [],
   "source": [
    "\n",
    "In Python, there are multiple ways to pass arguments to a function. The two common ways are using positional arguments and keyword arguments.\n",
    "\n",
    "1)Positional Arguments:\n",
    "Positional arguments are passed to a function based on their position or order. The function receives the arguments in the same order as they are provided in the function call. The number and order of arguments in the function call must match the function definition.\n",
    "Example:\n",
    "\n",
    "python\n",
    "Copy code\n",
    "def add(a, b):\n",
    "    return a + b\n",
    "\n",
    "result = add(3, 5)\n",
    "print(result)  # Output: 8\n",
    "In this example, the function add() expects two positional arguments a and b. When calling the function, we provide 3 as the value for a and 5 as the value for b. The function adds these two values and returns the result, which is printed as 8.\n",
    "\n",
    "2)Keyword Arguments:\n",
    "Keyword arguments are passed to a function using their corresponding parameter names. The function call explicitly specifies the argument names and their values. Keyword arguments allow flexibility in the order of arguments as the arguments are mapped by their names.\n",
    "Example:\n",
    "\n",
    "python\n",
    "Copy code\n",
    "def greet(first_name, last_name):\n",
    "    return \"Hello, \" + first_name + \" \" + last_name + \"!\"\n",
    "\n",
    "greeting = greet(first_name=\"Alice\", last_name=\"Smith\")\n",
    "print(greeting)  # Output: Hello, Alice Smith!\n",
    "In this example, the function greet() expects two keyword arguments first_name and last_name. Instead of relying on the order of arguments, we explicitly specify the argument names and their values in the function call. The function concatenates the names and returns the greeting message, which is stored in the variable greeting and printed as Hello, Alice Smith!.\n",
    "\n",
    "Keyword arguments are useful when a function has multiple parameters and you want to provide values only for specific parameters, without relying on their position.\n",
    "\n",
    "It's worth noting that in Python, you can also mix positional and keyword arguments in a function call. However, positional arguments must be provided before keyword arguments.\n",
    "\n",
    "python\n",
    "Copy code\n",
    "def example(a, b, c):\n",
    "    # Function logic\n",
    "\n",
    "# Mixing positional and keyword arguments\n",
    "example(1, b=2, c=3)\n",
    "In summary, positional arguments are passed to a function based on their position, while keyword arguments are passed using their corresponding parameter names. Keyword arguments provide flexibility in argument order, making the code more readable and self-explanatory"
   ]
  },
  {
   "cell_type": "code",
   "execution_count": null,
   "id": "aaf19b20",
   "metadata": {},
   "outputs": [],
   "source": []
  },
  {
   "cell_type": "code",
   "execution_count": null,
   "id": "c0cfbf29",
   "metadata": {},
   "outputs": [],
   "source": [
    "3. What is the purpose of the return statement in a function? Can a function have multiple return\n",
    "statements? Explain with an example."
   ]
  },
  {
   "cell_type": "code",
   "execution_count": null,
   "id": "ae7c66dd",
   "metadata": {},
   "outputs": [],
   "source": [
    "The purpose of the return statement in a function is to specify the value or values that the function should return when it is called. It allows the function to produce a result that can be used in further computations or assigned to variables outside the function.\n",
    "\n",
    "The return statement serves two main purposes:\n",
    "\n",
    "It provides the output or result of the function to the caller.\n",
    "It terminates the execution of the function, exiting the function and returning control to the caller.\n",
    "A function can have multiple return statements, but only one return statement is executed during the function call. When the return statement is encountered, the function immediately exits, and the specified value or expression is returned as the result of the function. This means that any code after the return statement within the function is not executed.\n",
    "\n",
    "Here's an example to illustrate the use of the return statement and multiple return statements in a function:\n",
    "\n",
    "python\n",
    "Copy code\n",
    "def maximum(a, b):\n",
    "    if a > b:\n",
    "        return a\n",
    "    else:\n",
    "        return b\n",
    "\n",
    "result = maximum(5, 9)\n",
    "print(result)  # Output: 9\n",
    "In this example, the function maximum() takes two arguments a and b. It compares the values of a and b using an if statement. If a is greater than b, the function returns a using the first return statement. Otherwise, it returns b using the second return statement.\n",
    "\n",
    "When the function maximum(5, 9) is called, the return value 9 is assigned to the variable result, and then it is printed. The value 9 is returned because 9 is the larger of the two arguments passed to the function.\n",
    "\n",
    "In summary, the return statement in a function is used to specify the value or values that the function should return. It allows the function to produce output that can be used by the caller. A function can have multiple return statements, but only one of them is executed during the function call, terminating the function and returning the specified value or expression."
   ]
  },
  {
   "cell_type": "code",
   "execution_count": null,
   "id": "411b04c7",
   "metadata": {},
   "outputs": [],
   "source": []
  },
  {
   "cell_type": "code",
   "execution_count": null,
   "id": "c525f90d",
   "metadata": {},
   "outputs": [],
   "source": [
    "4. What are lambda functions in Python? How are they different from regular functions? Provide an\n",
    "example where a lambda function can be useful.\n"
   ]
  },
  {
   "cell_type": "code",
   "execution_count": null,
   "id": "cd3ff3cd",
   "metadata": {},
   "outputs": [],
   "source": [
    "In Python, lambda functions, also known as anonymous functions, are small and anonymous functions that can be defined without a name. They are created using the lambda keyword followed by a list of arguments, a colon (:), and an expression.\n",
    "\n",
    "Lambda functions are different from regular functions in the following ways:\n",
    "\n",
    "Syntax: Lambda functions are defined in a more concise and compact syntax compared to regular functions. They are typically single-line expressions rather than multi-line function definitions.\n",
    "\n",
    "Nameless: Lambda functions are anonymous, meaning they are not assigned a name like regular functions. They are primarily used where a small, one-time function is required without the need for reusability or a function name.\n",
    "\n",
    "Limited functionality: Lambda functions are limited in functionality compared to regular functions. They can only consist of a single expression and cannot contain statements or multiple lines of code.\n",
    "\n",
    "Here's an example where a lambda function can be useful:\n",
    "\n",
    "python\n",
    "Copy code\n",
    "# Regular function\n",
    "def square(x):\n",
    "    return x ** 2\n",
    "\n",
    "print(square(3))  # Output: 9\n",
    "\n",
    "# Lambda function\n",
    "square_lambda = lambda x: x ** 2\n",
    "\n",
    "print(square_lambda(3))  # Output: 9\n",
    "In this example, we define a regular function square(x) that calculates the square of a number. We also define a lambda function square_lambda that performs the same operation. Both functions can be used to calculate the square of a number.\n",
    "\n",
    "Lambda functions are particularly useful in situations where you need a small, one-time function and don't want to define a separate function using the def keyword. They are commonly used in functional programming, for operations such as mapping, filtering, or sorting elements in a collection. Lambda functions can be passed as arguments to other functions, allowing for more concise and expressive code."
   ]
  },
  {
   "cell_type": "code",
   "execution_count": null,
   "id": "453e1bda",
   "metadata": {},
   "outputs": [],
   "source": []
  },
  {
   "cell_type": "code",
   "execution_count": null,
   "id": "951a64b8",
   "metadata": {},
   "outputs": [],
   "source": [
    "5. How does the concept of \"scope\" apply to functions in Python? Explain the difference between local\n",
    "scope and global scope.\n"
   ]
  },
  {
   "cell_type": "code",
   "execution_count": null,
   "id": "33bd6a18",
   "metadata": {},
   "outputs": [],
   "source": [
    "In Python, the concept of \"scope\" refers to the visibility and accessibility of variables within different parts of a program. The scope determines where a variable can be accessed and modified. When it comes to functions, there are two main scopes: local scope and global scope.\n",
    "\n",
    "Local Scope:\n",
    "Variables defined within a function have a local scope. These variables are only accessible within the function in which they are defined. Local variables are created when the function is called and destroyed when the function completes execution. They cannot be accessed or modified outside of the function.\n",
    "Example:\n",
    "\n",
    "python\n",
    "Copy code\n",
    "def my_function():\n",
    "    x = 10  # Local variable\n",
    "    print(x)  # Output: 10\n",
    "\n",
    "my_function()\n",
    "print(x)  # Error: NameError: name 'x' is not defined\n",
    "In this example, the variable x is defined within the my_function() function. It has a local scope and can only be accessed within the function. When the function is called, x is assigned the value 10 and printed within the function. However, trying to access x outside the function results in a NameError because x is not defined in the global scope.\n",
    "\n",
    "Global Scope:\n",
    "Variables defined outside of any function, at the top level of a module, have a global scope. Global variables are accessible throughout the entire module, including within any functions defined within the module. They can be accessed, modified, and shared by multiple functions.\n",
    "Example:\n",
    "\n",
    "python\n",
    "Copy code\n",
    "x = 10  # Global variable\n",
    "\n",
    "def my_function():\n",
    "    print(x)  # Output: 10\n",
    "\n",
    "my_function()\n",
    "print(x)  # Output: 10\n",
    "In this example, the variable x is defined outside of any function, making it a global variable. It can be accessed both within the my_function() function and outside of it. The function can access and use the global variable x without any issues.\n",
    "\n",
    "It's important to note that local variables take precedence over global variables with the same name. If a local variable is defined within a function with the same name as a global variable, the local variable will be used within the function, and it won't affect the value of the global variable.\n",
    "\n",
    "In summary, scope refers to the visibility and accessibility of variables. Local scope applies to variables defined within a function, making them accessible only within that function. Global scope applies to variables defined outside of any function, making them accessible throughout the entire module. Understanding scope is crucial for managing variable access, preventing naming conflicts, and writing structured and maintainable code."
   ]
  },
  {
   "cell_type": "code",
   "execution_count": null,
   "id": "75454d66",
   "metadata": {},
   "outputs": [],
   "source": []
  },
  {
   "cell_type": "code",
   "execution_count": null,
   "id": "ea5d7c5d",
   "metadata": {},
   "outputs": [],
   "source": [
    "6. How can you use the \"return\" statement in a Python function to return multiple values?"
   ]
  },
  {
   "cell_type": "code",
   "execution_count": null,
   "id": "f7f72d0b",
   "metadata": {},
   "outputs": [],
   "source": [
    "In Python, you can use the return statement in a function to return multiple values by returning them as a tuple. A tuple is a collection of multiple elements enclosed in parentheses.\n",
    "\n",
    "Here's an example that demonstrates how to use the return statement to return multiple values:\n",
    "\n",
    "python\n",
    "Copy code\n",
    "def calculate_statistics(numbers):\n",
    "    total = sum(numbers)\n",
    "    average = total / len(numbers)\n",
    "    maximum = max(numbers)\n",
    "    minimum = min(numbers)\n",
    "    return total, average, maximum, minimum\n",
    "\n",
    "numbers_list = [1, 2, 3, 4, 5]\n",
    "result = calculate_statistics(numbers_list)\n",
    "print(result)  # Output: (15, 3.0, 5, 1)\n",
    "In this example, the calculate_statistics() function takes a list of numbers as input. It calculates the total, average, maximum, and minimum values from the list. Instead of returning each value individually, they are returned as a tuple using the return statement. The function call calculate_statistics(numbers_list) returns a tuple containing the total, average, maximum, and minimum values. This tuple is then assigned to the variable result and printed, resulting in (15, 3.0, 5, 1).\n",
    "\n",
    "To access the individual values returned by the function, you can use indexing or unpacking. For example, result[0] gives the total, result[1] gives the average, and so on. Alternatively, you can use unpacking to assign the returned values directly to separate variables:\n",
    "\n",
    "python\n",
    "Copy code\n",
    "total, average, maximum, minimum = calculate_statistics(numbers_list)\n",
    "print(total)     # Output: 15\n",
    "print(average)   # Output: 3.0\n",
    "print(maximum)   # Output: 5\n",
    "print(minimum)   # Output: 1\n",
    "In this case, the returned tuple is automatically unpacked, and each value is assigned to its respective variable.\n",
    "\n",
    "By returning multiple values as a tuple, you can conveniently handle and utilize multiple results from a function in a concise and structured manner."
   ]
  },
  {
   "cell_type": "code",
   "execution_count": null,
   "id": "64d5d020",
   "metadata": {},
   "outputs": [],
   "source": []
  },
  {
   "cell_type": "code",
   "execution_count": null,
   "id": "fbd92789",
   "metadata": {},
   "outputs": [],
   "source": [
    "7. What is the difference between the \"pass by value\" and \"pass by reference\" concepts when it\n",
    "comes to function arguments in Python?\n"
   ]
  },
  {
   "cell_type": "code",
   "execution_count": null,
   "id": "e3ef6e8e",
   "metadata": {},
   "outputs": [],
   "source": [
    "In Python, the concepts of \"pass by value\" and \"pass by reference\" are not applicable in the same way as in some other programming languages. Instead, Python uses a combination of both concepts, depending on the type of the object being passed as a function argument.\n",
    "\n",
    "In Python, all function arguments are passed by assignment. When a function is called, the values of the arguments are assigned to the corresponding parameter variables. However, the behavior of this assignment depends on whether the object being passed is mutable or immutable.\n",
    "\n",
    "Immutable Objects (Pass by Value):\n",
    "Immutable objects, such as numbers, strings, and tuples, cannot be modified after they are created. When an immutable object is passed as an argument to a function, a new reference to the object is created, and this reference is assigned to the corresponding parameter variable. Any modifications made to the parameter variable within the function will not affect the original object outside the function.\n",
    "Example:\n",
    "\n",
    "python\n",
    "Copy code\n",
    "def modify_immutable(x):\n",
    "    x = x + 1\n",
    "    print(x)  # Output: 6\n",
    "\n",
    "value = 5\n",
    "modify_immutable(value)\n",
    "print(value)  # Output: 5\n",
    "In this example, the immutable object value (which is an integer) is passed to the function modify_immutable(). Within the function, the parameter variable x is assigned a new value by adding 1 to it. However, this modification does not affect the original value variable outside the function. The output remains as 5.\n",
    "\n",
    "Mutable Objects (Pass by Reference):\n",
    "Mutable objects, such as lists, dictionaries, and sets, can be modified after they are created. When a mutable object is passed as an argument to a function, a reference to the original object is passed. Any modifications made to the parameter variable within the function will affect the original object outside the function.\n",
    "Example:\n",
    "\n",
    "python\n",
    "Copy code\n",
    "def modify_mutable(lst):\n",
    "    lst.append(4)\n",
    "    print(lst)  # Output: [1, 2, 3, 4]\n",
    "\n",
    "my_list = [1, 2, 3]\n",
    "modify_mutable(my_list)\n",
    "print(my_list)  # Output: [1, 2, 3, 4]\n",
    "In this example, the mutable object my_list (which is a list) is passed to the function modify_mutable(). Within the function, the parameter variable lst is modified by appending the value 4 to it. This modification affects the original my_list variable outside the function as well. The output shows [1, 2, 3, 4].\n",
    "\n",
    "It's important to note that even though the reference to the object is passed for mutable objects, reassigning the parameter variable within the function will not affect the original object outside the function. Only modifications to the object itself, such as appending or removing elements, will be reflected.\n",
    "\n",
    "In summary, Python uses a combination of \"pass by value\" and \"pass by reference\" concepts, depending on the type of the object being passed. Immutable objects are passed by value, creating a new reference within the function, while mutable objects are passed by reference, allowing modifications to affect the original object. Understanding this behavior is important to avoid unexpected side effects when working with function arguments in Python."
   ]
  },
  {
   "cell_type": "code",
   "execution_count": null,
   "id": "c28d434e",
   "metadata": {},
   "outputs": [],
   "source": []
  },
  {
   "cell_type": "code",
   "execution_count": null,
   "id": "730f7e43",
   "metadata": {},
   "outputs": [],
   "source": [
    "8. Create a function that can intake integer or decimal value and do following operations:\n",
    "a. Logarithmic function (log x)\n",
    "b. Exponential function (exp(x))\n",
    "c. Power function with base 2 (2x)\n",
    "d. Square root"
   ]
  },
  {
   "cell_type": "code",
   "execution_count": 3,
   "id": "b935bd95",
   "metadata": {},
   "outputs": [
    {
     "name": "stdout",
     "output_type": "stream",
     "text": [
      "2.0\n"
     ]
    }
   ],
   "source": [
    "## a.Logarithmic function (log x)\n",
    "##To create a logarithm (log) function in Python, you can make use of the math module, which provides various mathematical functions, including logarithmic functions. Here's an example of creating a log function:\n",
    "\n",
    "\n",
    "import math\n",
    "\n",
    "def log_function(base, number):\n",
    "    result = math.log(number, base)\n",
    "    return result\n",
    "\n",
    "base = 10\n",
    "number = 100\n",
    "log_value = log_function(base, number)\n",
    "print(log_value)  # Output: 2.0\n"
   ]
  },
  {
   "cell_type": "code",
   "execution_count": 4,
   "id": "ba690ed8",
   "metadata": {},
   "outputs": [
    {
     "name": "stdout",
     "output_type": "stream",
     "text": [
      "12.182493960703473\n"
     ]
    }
   ],
   "source": [
    "##b. Exponential function (exp(x))\n",
    "import math\n",
    "\n",
    "x = 2.5\n",
    "result = math.exp(x)\n",
    "\n",
    "print(result)  # Output: 12.182493960703473"
   ]
  },
  {
   "cell_type": "code",
   "execution_count": 5,
   "id": "c232e2c1",
   "metadata": {},
   "outputs": [
    {
     "name": "stdout",
     "output_type": "stream",
     "text": [
      "16\n"
     ]
    }
   ],
   "source": [
    "##c. Power function with base 2 (2x)\n",
    "def power_of_two(exponent):\n",
    "    return 2 ** exponent\n",
    "\n",
    "# Example usage:\n",
    "result = power_of_two(4)\n",
    "print(result)  # Output: 16"
   ]
  },
  {
   "cell_type": "code",
   "execution_count": 6,
   "id": "1a9c0e54",
   "metadata": {},
   "outputs": [
    {
     "name": "stdout",
     "output_type": "stream",
     "text": [
      "5.0\n"
     ]
    }
   ],
   "source": [
    "##Square root\n",
    "\n",
    "def square_root(number):\n",
    "    return math.sqrt(number)\n",
    "\n",
    "# Example usage:\n",
    "result = square_root(25)\n",
    "print(result)  # Output: 5.0"
   ]
  },
  {
   "cell_type": "code",
   "execution_count": null,
   "id": "e1c24a12",
   "metadata": {},
   "outputs": [],
   "source": []
  },
  {
   "cell_type": "code",
   "execution_count": null,
   "id": "5697d894",
   "metadata": {},
   "outputs": [],
   "source": [
    "9. Create a function that takes a full name as an argument and returns first name and last name"
   ]
  },
  {
   "cell_type": "code",
   "execution_count": 14,
   "id": "4341ce18",
   "metadata": {},
   "outputs": [
    {
     "name": "stdout",
     "output_type": "stream",
     "text": [
      "First Name: Muniraju\n",
      "Last Name: Munisamy\n"
     ]
    }
   ],
   "source": [
    "def get_first_last_name(full_name):\n",
    "    names = full_name.split()\n",
    "    first_name = names[0]\n",
    "    last_name = names[1]\n",
    "    return first_name, last_name\n",
    "\n",
    "# Example usage:\n",
    "full_name = \"Muniraju Munisamy\"\n",
    "first_name, last_name = get_first_last_name(full_name)\n",
    "print(\"First Name:\", first_name)  # Output: First Name: John\n",
    "print(\"Last Name:\", last_name)    # Output: Last Name: Doe"
   ]
  },
  {
   "cell_type": "code",
   "execution_count": null,
   "id": "2fc20005",
   "metadata": {},
   "outputs": [],
   "source": []
  },
  {
   "cell_type": "code",
   "execution_count": null,
   "id": "feaef50f",
   "metadata": {},
   "outputs": [],
   "source": []
  }
 ],
 "metadata": {
  "kernelspec": {
   "display_name": "Python 3 (ipykernel)",
   "language": "python",
   "name": "python3"
  },
  "language_info": {
   "codemirror_mode": {
    "name": "ipython",
    "version": 3
   },
   "file_extension": ".py",
   "mimetype": "text/x-python",
   "name": "python",
   "nbconvert_exporter": "python",
   "pygments_lexer": "ipython3",
   "version": "3.10.9"
  }
 },
 "nbformat": 4,
 "nbformat_minor": 5
}
