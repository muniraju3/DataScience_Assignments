{
 "cells": [
  {
   "cell_type": "code",
   "execution_count": null,
   "id": "96b74d9b",
   "metadata": {},
   "outputs": [],
   "source": [
    "#1.. Explain what inheritance is in object-oriented programming and why it is used.\n"
   ]
  },
  {
   "cell_type": "code",
   "execution_count": null,
   "id": "50dd4471",
   "metadata": {},
   "outputs": [],
   "source": [
    "Inheritance is a fundamental concept in object-oriented programming (OOP) that allows a class to inherit properties and behaviors from another class. Inheritance creates a relationship between classes, where one class (called the child or derived class) inherits the characteristics of another class (called the parent or base class).\n",
    "\n",
    "Inheritance is used for several reasons:\n",
    "\n",
    "Code reuse: Inheritance promotes code reuse by allowing classes to inherit and reuse the attributes and methods of a parent class. The child class automatically has access to all the public and protected members (attributes and methods) of the parent class, saving development time and effort. It avoids the need to duplicate code in multiple classes.\n",
    "\n",
    "Modularity and hierarchy: Inheritance facilitates the organization of classes into a hierarchical structure, forming a parent-child relationship. This allows for a more organized and logical design, as classes can be grouped based on their similarities and differences. It helps in managing complex projects and promotes better understanding and maintenance of the codebase.\n",
    "\n",
    "Polymorphism: Inheritance enables polymorphism, which is the ability of objects of different classes to be treated as objects of a common parent class. This allows for code flexibility and abstraction. By using a common interface provided by the parent class, different child classes can be used interchangeably, providing a more flexible and modular code structure.\n",
    "\n",
    "Extensibility and specialization: Inheritance allows for extending the functionality of an existing class by adding new attributes and methods or by overriding existing ones. Child classes can inherit the behavior of the parent class and add their own specific behavior, customizing and specializing the functionality as needed. This promotes flexibility and adaptability in the design.\n",
    "\n",
    "To implement inheritance in OOP, a child class is created by specifying the parent class in its definition. The child class inherits all the attributes and methods of the parent class and can override or extend them as necessary. The child class can also define its own unique attributes and methods.\n",
    "\n",
    "Overall, inheritance is a powerful mechanism in OOP that facilitates code reuse, modularity, polymorphism, and extensibility. It helps in creating more organized and efficient code structures, reducing redundancy, and promoting better maintainability and flexibility in software development."
   ]
  },
  {
   "cell_type": "code",
   "execution_count": null,
   "id": "f7a76a12",
   "metadata": {},
   "outputs": [],
   "source": []
  },
  {
   "cell_type": "code",
   "execution_count": null,
   "id": "478021cb",
   "metadata": {},
   "outputs": [],
   "source": [
    "#2.Discuss the concept of single inheritance and multiple inheritance, highlighting their\n",
    "differences and advantages.\n",
    "\n",
    "In object-oriented programming (OOP), single inheritance and multiple inheritance are two different approaches to class inheritance. They differ in terms of the number of parent classes that a child class can inherit from. Let's discuss each concept and highlight their differences and advantages.\n",
    "\n",
    "Single Inheritance:\n",
    "\n",
    "Single inheritance refers to the scenario where a child class inherits from a single parent class.\n",
    "In single inheritance, the child class acquires the properties (attributes and methods) of its parent class.\n",
    "Single inheritance promotes a simpler and more straightforward class hierarchy.\n",
    "Advantages of single inheritance:\n",
    "Simplicity: Single inheritance offers a straightforward and less complex relationship between classes. The class hierarchy is easier to understand and maintain.\n",
    "Encapsulation: Single inheritance supports encapsulation by allowing a child class to access and modify the attributes and methods of its parent class.\n",
    "Code organization: Single inheritance provides a clean and hierarchical structure, making it easier to organize and manage classes.\n",
    "Multiple Inheritance:\n",
    "\n",
    "Multiple inheritance refers to the scenario where a child class can inherit from multiple parent classes.\n",
    "In multiple inheritance, the child class inherits the properties of all its parent classes, combining their attributes and methods.\n",
    "Multiple inheritance allows a class to inherit from different sources and promotes code reuse and flexibility.\n",
    "Advantages of multiple inheritance:\n",
    "Code reuse: Multiple inheritance enables a class to inherit and reuse attributes and methods from multiple parent classes, promoting code reuse and reducing redundancy.\n",
    "Increased functionality: Multiple inheritance allows a class to combine features and behaviors from different parent classes, providing more diverse and comprehensive functionality.\n",
    "Flexibility: Multiple inheritance provides flexibility in designing class relationships by allowing a class to have multiple sources of inheritance. It can capture complex relationships and achieve more versatile designs.\n",
    "It's important to note that while multiple inheritance offers more flexibility, it can also introduce challenges and complexities, such as name conflicts (when two parent classes define methods with the same name) and potential ambiguity. Proper design and careful consideration of class relationships are crucial when using multiple inheritance to avoid potential issues.\n",
    "\n",
    "In Python, both single inheritance and multiple inheritance are supported. Developers can choose the appropriate approach based on the requirements and design goals of their specific projects."
   ]
  },
  {
   "cell_type": "code",
   "execution_count": null,
   "id": "0ed8bd0b",
   "metadata": {},
   "outputs": [],
   "source": []
  },
  {
   "cell_type": "code",
   "execution_count": null,
   "id": "ec919018",
   "metadata": {},
   "outputs": [],
   "source": [
    "#3.Explain the terms \"base class\" and \"derived class\" in the context of inheritance"
   ]
  },
  {
   "cell_type": "code",
   "execution_count": null,
   "id": "05bf98ad",
   "metadata": {},
   "outputs": [],
   "source": [
    "In the context of inheritance, the terms \"base class\" and \"derived class\" are used to describe the relationship between classes.\n",
    "\n",
    "Base Class:\n",
    "\n",
    "A base class, also known as a parent class or superclass, is the class that is being inherited from.\n",
    "It is the class that provides the properties (attributes and methods) to be inherited by other classes.\n",
    "A base class can be seen as a blueprint or template that defines common attributes and behaviors that can be shared by multiple derived classes.\n",
    "Base classes are typically more general or abstract in nature and serve as a foundation for more specialized classes.\n",
    "Derived Class:\n",
    "\n",
    "A derived class, also known as a child class or subclass, is the class that inherits properties from the base class.\n",
    "It is the class that derives its characteristics from the base class and can extend or modify them as needed.\n",
    "A derived class can add new attributes and methods or override existing ones inherited from the base class.\n",
    "By inheriting from a base class, a derived class can reuse code, access the base class's members, and provide its own specialized functionality."
   ]
  },
  {
   "cell_type": "code",
   "execution_count": null,
   "id": "b54d1743",
   "metadata": {},
   "outputs": [],
   "source": []
  },
  {
   "cell_type": "code",
   "execution_count": null,
   "id": "9222d50c",
   "metadata": {},
   "outputs": [],
   "source": [
    "#4.What is the significance of the \"protected\" access modifier in inheritance? How does\n",
    "it differ from \"private\" and \"public\" modifiers"
   ]
  },
  {
   "cell_type": "code",
   "execution_count": null,
   "id": "09f474f6",
   "metadata": {},
   "outputs": [],
   "source": [
    "In object-oriented programming, access modifiers are used to control the visibility and accessibility of class members (attributes and methods) from outside the class. In Python, access modifiers are not explicitly enforced like in some other languages, but naming conventions are typically used to indicate the intended visibility of class members. The three common access modifiers are \"private\", \"protected\", and \"public\".\n",
    "\n",
    "Private Access Modifier:\n",
    "\n",
    "Private members are denoted by prefixing their names with a double underscore (__).\n",
    "Private members are intended to be accessed only within the class that defines them. They are not directly accessible from outside the class, including derived classes.\n",
    "Private members are used to encapsulate and hide internal implementation details, providing data abstraction and security.\n",
    "Example: self.__private_attribute\n",
    "Protected Access Modifier:\n",
    "\n",
    "Protected members are denoted by prefixing their names with a single underscore (_).\n",
    "Protected members are intended to be accessed within the class that defines them and their derived classes (subclasses).\n",
    "While Python doesn't enforce access restrictions, the convention is to treat protected members as non-public and discourage direct access from outside the class hierarchy.\n",
    "Protected members provide a level of access limited to the class hierarchy, allowing derived classes to inherit and utilize these members.\n",
    "Example: self._protected_attribute\n",
    "Public Access Modifier:\n",
    "\n",
    "Public members have no special syntax or naming convention.\n",
    "Public members are accessible from anywhere, both within the class and outside the class.\n",
    "Public members are intended to provide a public interface to interact with objects of the class.\n",
    "Example: self.public_attribute\n",
    "The significance of the \"protected\" access modifier in inheritance is to provide a limited level of accessibility within the class hierarchy. Protected members allow derived classes to access and utilize these members while still maintaining some level of encapsulation and data hiding. It facilitates code reuse and extensibility while controlling access to certain implementation details.\n",
    "\n",
    "It's important to note that in Python, the access modifiers are not strictly enforced, and it is possible to access private and protected members from outside the class hierarchy. However, the use of naming conventions signals the intended visibility and helps to maintain good coding practices.\n",
    "\n",
    "In summary, the significance of the \"protected\" access modifier in inheritance is to provide a level of access limited to the class hierarchy, allowing derived classes to inherit and utilize these members, while still maintaining encapsulation and data abstraction.\n",
    "\n",
    "\n",
    "\n",
    "\n"
   ]
  },
  {
   "cell_type": "code",
   "execution_count": null,
   "id": "beaf7184",
   "metadata": {},
   "outputs": [],
   "source": []
  },
  {
   "cell_type": "code",
   "execution_count": null,
   "id": "f4531cb9",
   "metadata": {},
   "outputs": [],
   "source": [
    "#5.What is the purpose of the \"super\" keyword in inheritance? Provide an example.\n",
    "\n",
    "In inheritance, the super keyword is used to access and invoke the methods and attributes of a parent class from a child class. It allows the child class to extend or override the behavior of the parent class while still retaining and utilizing the parent class's functionality.\n",
    "\n",
    "The super keyword is primarily used to call the constructor or methods of the parent class. By using super, you can explicitly refer to the parent class and access its members, even if they have been overridden in the child class."
   ]
  },
  {
   "cell_type": "code",
   "execution_count": null,
   "id": "afdbb8a0",
   "metadata": {},
   "outputs": [],
   "source": []
  },
  {
   "cell_type": "code",
   "execution_count": null,
   "id": "af8fa20f",
   "metadata": {},
   "outputs": [],
   "source": [
    "6.Create a base class called \"Vehicle\" with attributes like \"make\", \"model\", and \"year\".\n",
    "Then, create a derived class called \"Car\" that inherits from \"Vehicle\" and adds an\n",
    "attribute called \"fuel_type\". Implement appropriate methods in both classes.\n"
   ]
  },
  {
   "cell_type": "code",
   "execution_count": 12,
   "id": "8e3309f5",
   "metadata": {},
   "outputs": [],
   "source": [
    "class Vehicle:\n",
    "    def __init__(self,make):\n",
    "        self.make=make\n",
    "        \n",
    "    \n",
    "    def start_engine(self):\n",
    "        print(f\"{self.make}   starts very smoothly\")\n",
    "        \n",
    "    def stop_engine(self):\n",
    "        print(f\"This model creating noice while stopping the engine\")\n",
    "        \n",
    "class Car(Vehicle):\n",
    "    def __init__(self,fuel_type):\n",
    "        self.fuel_type=fuel_type\n",
    "    \n",
    "        \n",
    "    def start_engine(self):\n",
    "        super().start_engine()\n",
    "        print(f\"This {self.make} runs very badly\")\n",
    "    \n",
    "    def stop_engine(self):\n",
    "        super().stop_engine()\n",
    "        print(f\"This model stops very smoothly\")\n",
    "        \n",
    "    \n",
    "    "
   ]
  },
  {
   "cell_type": "code",
   "execution_count": null,
   "id": "aaa51bcc",
   "metadata": {},
   "outputs": [],
   "source": []
  },
  {
   "cell_type": "code",
   "execution_count": 33,
   "id": "8bcc242a",
   "metadata": {},
   "outputs": [
    {
     "name": "stdout",
     "output_type": "stream",
     "text": [
      "Muniraju\n",
      "5000\n",
      "Human Resources\n",
      "Muniraju\n",
      "4000\n",
      "Python\n"
     ]
    }
   ],
   "source": [
    "# 7.Create a base class called \"Employee\" with attributes like \"name\" and \"salary.\"\n",
    "# Derive two classes, \"Manager\" and \"Developer,\" from \"Employee.\" Add an additional\n",
    "# attribute called \"department\" for the \"Manager\" class and \"programming_language\"\n",
    "# for the \"Developer\" class\n",
    "\n",
    "class Employee:\n",
    "    def __init__(self,name,salary):\n",
    "        self.name=name\n",
    "        self.salary=salary\n",
    "    \n",
    "class Manager(Employee):\n",
    "    def __init__(self,name,salary,department):\n",
    "        super().__init__(name,salary)\n",
    "        self.department=department\n",
    "        \n",
    "        \n",
    "class Developer(Employee):\n",
    "    def __init__(self,name,salary,programming_language):\n",
    "        super().__init__(name,salary)\n",
    "        self.programming_language=programming_language\n",
    "        \n",
    "emp=Employee(\"Muni\",1000)\n",
    "emp.name\n",
    "\n",
    "manager = Manager(\"Muniraju\", 5000, \"Human Resources\")\n",
    "print(manager.name)          \n",
    "print(manager.salary)        \n",
    "print(manager.department)    \n",
    "\n",
    "developer = Developer(\"Muniraju\", 4000, \"Python\")\n",
    "print(developer.name)             \n",
    "print(developer.salary)           \n",
    "print(developer.programming_language) \n",
    "        \n"
   ]
  },
  {
   "cell_type": "code",
   "execution_count": null,
   "id": "6d1ea19a",
   "metadata": {},
   "outputs": [],
   "source": []
  },
  {
   "cell_type": "code",
   "execution_count": null,
   "id": "5fb090c1",
   "metadata": {},
   "outputs": [],
   "source": [
    "#8.Design a base class called \"Shape\" with attributes like \"colour\" and \"border_width.\"\n",
    "Create derived classes, \"Rectangle\" and \"Circle,\" that inherit from \"Shape\" and add\n",
    "specific attributes like \"length\" and \"width\" for the \"Rectangle\" class and \"radius\" for\n",
    "the \"Circle\" class"
   ]
  },
  {
   "cell_type": "code",
   "execution_count": 34,
   "id": "1800ba98",
   "metadata": {},
   "outputs": [
    {
     "data": {
      "text/plain": [
       "'blue'"
      ]
     },
     "execution_count": 34,
     "metadata": {},
     "output_type": "execute_result"
    }
   ],
   "source": [
    "class Shape:\n",
    "    def __init__(self,colour,border_width):\n",
    "        self.colour=colour\n",
    "        self.border_width=border_width\n",
    "        \n",
    "class Rectangle(Shape):\n",
    "    def __init__(self,colour,border_width,length,width):\n",
    "        super().__init__(colour,border_width)\n",
    "        self.length=length\n",
    "        self.width=width\n",
    "    \n",
    "class Circle(Shape):\n",
    "    def __init__(self,colour,border_width,radius):\n",
    "        super().__init__(colour,border_width)\n",
    "        self.radius=radius\n",
    "        \n",
    "rect=Rectangle(\"blue\",5,5,5)\n",
    "rect.colour\n",
    "        "
   ]
  },
  {
   "cell_type": "code",
   "execution_count": null,
   "id": "11e2ea91",
   "metadata": {},
   "outputs": [],
   "source": []
  },
  {
   "cell_type": "code",
   "execution_count": null,
   "id": "35ec020f",
   "metadata": {},
   "outputs": [],
   "source": [
    "#9.Create a base class called \"Device\" with attributes like \"brand\" and \"model.\" Derive\n",
    "two classes, \"Phone\" and \"Tablet,\" from \"Device.\" Add specific attributes like\n",
    "\"screen_size\" for the \"Phone\" class and \"battery_capacity\" for the \"Tablet\" class.\n"
   ]
  },
  {
   "cell_type": "code",
   "execution_count": null,
   "id": "61abd981",
   "metadata": {},
   "outputs": [],
   "source": []
  },
  {
   "cell_type": "code",
   "execution_count": 35,
   "id": "a0d8703b",
   "metadata": {},
   "outputs": [
    {
     "name": "stdout",
     "output_type": "stream",
     "text": [
      "Apple\n",
      "iPhone 12\n",
      "6.1\n",
      "Samsung\n",
      "Galaxy Tab S7\n",
      "8000\n"
     ]
    }
   ],
   "source": [
    "class Device:\n",
    "    def __init__(self, brand, model):\n",
    "        self.brand = brand\n",
    "        self.model = model\n",
    "\n",
    "\n",
    "class Phone(Device):\n",
    "    def __init__(self, brand, model, screen_size):\n",
    "        super().__init__(brand, model)\n",
    "        self.screen_size = screen_size\n",
    "\n",
    "\n",
    "class Tablet(Device):\n",
    "    def __init__(self, brand, model, battery_capacity):\n",
    "        super().__init__(brand, model)\n",
    "        self.battery_capacity = battery_capacity\n",
    "phone = Phone(\"Apple\", \"iPhone 12\", 6.1)\n",
    "print(phone.brand)          # Output: Apple\n",
    "print(phone.model)          # Output: iPhone 12\n",
    "print(phone.screen_size)    \n",
    "\n",
    "tablet = Tablet(\"Samsung\", \"Galaxy Tab S7\", 8000)\n",
    "print(tablet.brand)             # Output: Samsung\n",
    "print(tablet.model)             # Output: Galaxy Tab S7\n",
    "print(tablet.battery_capacity)  # Output: 8000\n"
   ]
  },
  {
   "cell_type": "code",
   "execution_count": null,
   "id": "69ece27c",
   "metadata": {},
   "outputs": [],
   "source": []
  },
  {
   "cell_type": "code",
   "execution_count": null,
   "id": "98c40c0d",
   "metadata": {},
   "outputs": [],
   "source": [
    "#10.Create a base class called \"BankAccount\" with attributes like \"account_number\" and\n",
    "\"balance.\" Derive two classes, \"SavingsAccount\" and \"CheckingAccount,\" from\n",
    "\"BankAccount.\" Add specific methods like \"calculate_interest\" for the\n",
    "\"SavingsAccount\" class and \"deduct_fees\" for the \"CheckingAccount\" class.\n"
   ]
  },
  {
   "cell_type": "code",
   "execution_count": 36,
   "id": "1b97c196",
   "metadata": {},
   "outputs": [
    {
     "name": "stdout",
     "output_type": "stream",
     "text": [
      "123456789\n",
      "1050.0\n",
      "987654321\n",
      "1990\n"
     ]
    }
   ],
   "source": [
    "class BankAccount:\n",
    "    def __init__(self, account_number, balance):\n",
    "        self.account_number = account_number\n",
    "        self.balance = balance\n",
    "\n",
    "\n",
    "class SavingsAccount(BankAccount):\n",
    "    def __init__(self, account_number, balance):\n",
    "        super().__init__(account_number, balance)\n",
    "\n",
    "    def calculate_interest(self, rate):\n",
    "        interest = self.balance * rate\n",
    "        self.balance += interest\n",
    "\n",
    "\n",
    "class CheckingAccount(BankAccount):\n",
    "    def __init__(self, account_number, balance):\n",
    "        super().__init__(account_number, balance)\n",
    "\n",
    "    def deduct_fees(self, fee):\n",
    "        self.balance -= fee\n",
    "\n",
    "\n",
    "savings = SavingsAccount(\"123456789\", 1000)\n",
    "savings.calculate_interest(0.05)\n",
    "print(savings.account_number)  # Output: 123456789\n",
    "print(savings.balance)        # Output: 1050\n",
    "\n",
    "checking = CheckingAccount(\"987654321\", 2000)\n",
    "checking.deduct_fees(10)\n",
    "print(checking.account_number)  # Output: 987654321\n",
    "print(checking.balance)        # Output: 1990\n"
   ]
  },
  {
   "cell_type": "code",
   "execution_count": null,
   "id": "a86a4c38",
   "metadata": {},
   "outputs": [],
   "source": []
  }
 ],
 "metadata": {
  "kernelspec": {
   "display_name": "Python 3 (ipykernel)",
   "language": "python",
   "name": "python3"
  },
  "language_info": {
   "codemirror_mode": {
    "name": "ipython",
    "version": 3
   },
   "file_extension": ".py",
   "mimetype": "text/x-python",
   "name": "python",
   "nbconvert_exporter": "python",
   "pygments_lexer": "ipython3",
   "version": "3.10.9"
  }
 },
 "nbformat": 4,
 "nbformat_minor": 5
}
