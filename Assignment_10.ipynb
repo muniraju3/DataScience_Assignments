{
 "cells": [
  {
   "cell_type": "code",
   "execution_count": null,
   "id": "fc812916",
   "metadata": {},
   "outputs": [],
   "source": [
    "1.What is the role of try and exception block?\n"
   ]
  },
  {
   "cell_type": "code",
   "execution_count": null,
   "id": "d080e555",
   "metadata": {},
   "outputs": [],
   "source": [
    "The role of a try-except block, also known as an exception handling block, is to handle exceptions or errors that may occur during the execution of a program. Exceptions are events that occur during the execution of a program that disrupt the normal flow of the program. These exceptions can be caused by various factors, such as invalid input, file access errors, network issues, or programming mistakes.\n",
    "\n",
    "The try-except block allows you to write code that anticipates potential exceptions and provides a mechanism to handle them gracefully. Here's how it works:\n",
    "\n",
    "The code within the try block is the section of code where you anticipate that an exception may occur.\n",
    "If an exception occurs within the try block, the execution of the code within the try block is immediately stopped.\n",
    "The program then looks for an except block that matches the type of exception raised. An except block is a section of code that defines how to handle a specific type of exception.\n",
    "If a matching except block is found, the code within that block is executed, providing an opportunity to handle the exception. This can involve logging the error, displaying an error message, or taking corrective action.\n",
    "If no matching except block is found, the exception is propagated up the call stack to the next level of exception handling. This continues until a matching except block is found or until the exception reaches the top-level of the program, resulting in a program termination.\n",
    "Here's an example of a try-except block in Python:\n",
    "\n",
    "python\n",
    "Copy code\n",
    "try:\n",
    "    # Code that may raise an exception\n",
    "    result = 10 / 0  # Division by zero exception\n",
    "except ZeroDivisionError:\n",
    "    # Exception handling code\n",
    "    print(\"Error: Division by zero is not allowed.\")\n",
    "In this example, the try block attempts to divide 10 by 0, which raises a ZeroDivisionError. Since we have an except block specifically for ZeroDivisionError, the code within the except block is executed, and the program displays the error message.\n",
    "\n",
    "Using try-except blocks allows you to handle exceptions gracefully and prevent your program from crashing when errors occur. It provides a way to handle exceptional cases and take appropriate actions, improving the robustness and reliability of your code."
   ]
  },
  {
   "cell_type": "code",
   "execution_count": null,
   "id": "c1b47db6",
   "metadata": {},
   "outputs": [],
   "source": []
  },
  {
   "cell_type": "code",
   "execution_count": null,
   "id": "5b3f8be6",
   "metadata": {},
   "outputs": [],
   "source": [
    "2.What is the syntax for a basic try-except block?"
   ]
  },
  {
   "cell_type": "code",
   "execution_count": null,
   "id": "b1828635",
   "metadata": {},
   "outputs": [],
   "source": [
    "try:\n",
    "    # Code that may raise an exception\n",
    "    # ...\n",
    "except ExceptionType:\n",
    "    # Exception handling code\n",
    "    # ...\n"
   ]
  },
  {
   "cell_type": "code",
   "execution_count": null,
   "id": "dd3acf57",
   "metadata": {},
   "outputs": [],
   "source": []
  },
  {
   "cell_type": "code",
   "execution_count": null,
   "id": "b79f51ba",
   "metadata": {},
   "outputs": [],
   "source": [
    "3.What happens if an exception occurs inside a try block and there is no matching\n",
    "except block?"
   ]
  },
  {
   "cell_type": "code",
   "execution_count": 1,
   "id": "b49f4274",
   "metadata": {},
   "outputs": [
    {
     "ename": "ZeroDivisionError",
     "evalue": "division by zero",
     "output_type": "error",
     "traceback": [
      "\u001b[1;31m---------------------------------------------------------------------------\u001b[0m",
      "\u001b[1;31mZeroDivisionError\u001b[0m                         Traceback (most recent call last)",
      "Cell \u001b[1;32mIn[1], line 3\u001b[0m\n\u001b[0;32m      1\u001b[0m \u001b[38;5;28;01mtry\u001b[39;00m:\n\u001b[0;32m      2\u001b[0m     \u001b[38;5;66;03m# Code that may raise an exception\u001b[39;00m\n\u001b[1;32m----> 3\u001b[0m     result \u001b[38;5;241m=\u001b[39m \u001b[38;5;241;43m10\u001b[39;49m\u001b[43m \u001b[49m\u001b[38;5;241;43m/\u001b[39;49m\u001b[43m \u001b[49m\u001b[38;5;241;43m0\u001b[39;49m  \u001b[38;5;66;03m# Division by zero exception\u001b[39;00m\n\u001b[0;32m      4\u001b[0m \u001b[38;5;28;01mexcept\u001b[39;00m \u001b[38;5;167;01mValueError\u001b[39;00m:\n\u001b[0;32m      5\u001b[0m     \u001b[38;5;66;03m# This except block does not match the raised ZeroDivisionError\u001b[39;00m\n\u001b[0;32m      6\u001b[0m     \u001b[38;5;28mprint\u001b[39m(\u001b[38;5;124m\"\u001b[39m\u001b[38;5;124mThis code will not be executed.\u001b[39m\u001b[38;5;124m\"\u001b[39m)\n",
      "\u001b[1;31mZeroDivisionError\u001b[0m: division by zero"
     ]
    }
   ],
   "source": [
    "try:\n",
    "    # Code that may raise an exception\n",
    "    result = 10 / 0  # Division by zero exception\n",
    "except ValueError:\n",
    "    # This except block does not match the raised ZeroDivisionError\n",
    "    print(\"This code will not be executed.\")"
   ]
  },
  {
   "cell_type": "code",
   "execution_count": null,
   "id": "f3b74893",
   "metadata": {},
   "outputs": [],
   "source": [
    "In this example, the try block attempts to divide 10 by 0, resulting in a ZeroDivisionError. However, there is no except block for ZeroDivisionError. As a result, the exception propagates up the call stack. If there are no higher-level except blocks that match the exception, the program will terminate and display an unhandled exception error message, indicating that the exception was not caught or handled."
   ]
  },
  {
   "cell_type": "code",
   "execution_count": null,
   "id": "65b0626a",
   "metadata": {},
   "outputs": [],
   "source": []
  },
  {
   "cell_type": "code",
   "execution_count": null,
   "id": "5edb9100",
   "metadata": {},
   "outputs": [],
   "source": [
    "4.What is the difference between using a bare except block and specifying a specific\n",
    "exception type?"
   ]
  },
  {
   "cell_type": "code",
   "execution_count": null,
   "id": "61cdd4cf",
   "metadata": {},
   "outputs": [],
   "source": [
    "\n",
    "The difference between using a bare except block and specifying a specific exception type lies in the level of control and specificity in exception handling.\n",
    "\n",
    "Bare Except Block:\n",
    "\n",
    "A bare except block is written as except: without specifying any specific exception type.\n",
    "It is a general catch-all block that can catch and handle any exception that occurs within the corresponding try block.\n",
    "When using a bare except block, you don't know the exact type of exception that occurred, which can make it challenging to determine the cause of the error.\n",
    "It is considered a less preferred practice because it can catch and handle exceptions that you might not have anticipated, potentially masking errors or making it difficult to diagnose and fix issues.\n",
    "It is recommended to use bare except blocks sparingly, if at all, and only when you have a specific reason for doing so.\n",
    "Specifying Specific Exception Type:\n",
    "\n",
    "When using a specific exception type in an except block, you specify the exact type of exception that you want to catch and handle.\n",
    "By explicitly specifying the exception type, you have more control over the handling of specific exceptions.\n",
    "You can provide specific error messages, perform appropriate actions, or apply tailored error handling logic based on the type of exception caught.\n",
    "This approach allows you to anticipate and handle specific exceptions while letting other exceptions propagate up the call stack or be caught by other except blocks that are specifically designed to handle them.\n",
    "It provides better clarity and maintainability, as it explicitly states the types of exceptions your code is designed to handle.\n",
    "Here's an example to illustrate the difference:\n",
    "\n",
    "python\n",
    "Copy code\n",
    "try:\n",
    "    # Code that may raise an exception\n",
    "    result = 10 / 0  # Division by zero exception\n",
    "except:\n",
    "    # Bare except block\n",
    "    print(\"An error occurred.\")\n",
    "In this example, the bare except block will catch any exception raised within the try block, regardless of the type of exception. It provides a general error message but lacks specific information about the type of exception that occurred.\n",
    "\n",
    "python\n",
    "Copy code\n",
    "try:\n",
    "    # Code that may raise an exception\n",
    "    result = 10 / 0  # Division by zero exception\n",
    "except ZeroDivisionError:\n",
    "    # Specific except block for ZeroDivisionError\n",
    "    print(\"Error: Division by zero is not allowed.\")\n",
    "In this example, the except block specifies the specific exception type ZeroDivisionError. It allows you to provide a more specific error message for the division by zero exception."
   ]
  },
  {
   "cell_type": "code",
   "execution_count": null,
   "id": "9d3147fa",
   "metadata": {},
   "outputs": [],
   "source": []
  },
  {
   "cell_type": "code",
   "execution_count": null,
   "id": "428dddd1",
   "metadata": {},
   "outputs": [],
   "source": [
    "5.Can you have nested try-except blocks in Python? If yes, then give an example"
   ]
  },
  {
   "cell_type": "code",
   "execution_count": null,
   "id": "8a868bf8",
   "metadata": {},
   "outputs": [],
   "source": [
    "Yes, nested try-except blocks are allowed in Python. This means you can have a try-except block within another try-except block. This nested structure allows for finer-grained exception handling, where you can handle exceptions at different levels of code execution.\n",
    "\n",
    "Here's an example of nested try-except blocks in Python:\n",
    "try:\n",
    "    # Outer try block\n",
    "    numerator = 10\n",
    "    denominator = 0\n",
    "\n",
    "    try:\n",
    "        # Inner try block\n",
    "        result = numerator / denominator  # Division by zero exception\n",
    "    except ZeroDivisionError:\n",
    "        # Inner except block\n",
    "        print(\"Error: Division by zero occurred in the inner try block.\")\n",
    "except Exception as e:\n",
    "    # Outer except block\n",
    "    print(\"An error occurred in the outer try block:\", str(e))\n"
   ]
  },
  {
   "cell_type": "code",
   "execution_count": null,
   "id": "fcdeb0a8",
   "metadata": {},
   "outputs": [],
   "source": []
  },
  {
   "cell_type": "code",
   "execution_count": null,
   "id": "2edd9665",
   "metadata": {},
   "outputs": [],
   "source": [
    "6. Can we use multiple exception blocks, if yes then give an example."
   ]
  },
  {
   "cell_type": "code",
   "execution_count": null,
   "id": "06be57d3",
   "metadata": {},
   "outputs": [],
   "source": [
    "Yes, you can use multiple except blocks to handle different types of exceptions. This allows you to handle specific exceptions individually, providing customized error handling for each exception type.\n",
    "\n",
    "Here's an example that demonstrates the usage of multiple exception blocks:\n",
    "\n",
    "try:\n",
    "    # Code that may raise exceptions\n",
    "    number = int(input(\"Enter a number: \"))\n",
    "    result = 10 / number  # Division by zero or ValueError exception\n",
    "except ZeroDivisionError:\n",
    "    # Exception handling for division by zero\n",
    "    print(\"Error: Division by zero is not allowed.\")\n",
    "except ValueError:\n",
    "    # Exception handling for invalid input\n",
    "    print(\"Error: Invalid input. Please enter a valid number.\")\n"
   ]
  },
  {
   "cell_type": "code",
   "execution_count": null,
   "id": "1dbba439",
   "metadata": {},
   "outputs": [],
   "source": []
  },
  {
   "cell_type": "code",
   "execution_count": null,
   "id": "238d0c78",
   "metadata": {},
   "outputs": [],
   "source": [
    "7. Write the reason due to which following errors are raised:\n",
    "a. EOFError\n",
    "b. FloatingPointError\n",
    "c. IndexError\n",
    "d. MemoryError\n",
    "e. OverflowError\n",
    "f. TabError\n",
    "g. ValueError"
   ]
  },
  {
   "cell_type": "code",
   "execution_count": null,
   "id": "f5351dce",
   "metadata": {},
   "outputs": [],
   "source": [
    "Here are the reasons for the following errors:\n",
    "\n",
    "a. EOFError:\n",
    "\n",
    "This error is raised when the input() function or a similar function encounters an end-of-file condition while reading user input or data from a file. It typically occurs when the user or the input source unexpectedly terminates the input stream before providing the expected input.\n",
    "b. FloatingPointError:\n",
    "\n",
    "This error is raised when a floating-point operation fails to produce a valid result. It usually occurs when performing arithmetic operations involving floating-point numbers, such as division by zero or an invalid mathematical operation like taking the square root of a negative number.\n",
    "c. IndexError:\n",
    "\n",
    "This error is raised when trying to access an index that is outside the bounds of a sequence (such as a list or tuple). It occurs when attempting to access an element using an index that is less than zero or greater than or equal to the length of the sequence.\n",
    "d. MemoryError:\n",
    "\n",
    "This error is raised when the program runs out of available memory to allocate for objects or data. It occurs when the system cannot allocate any more memory to fulfill a requested operation, such as creating a new object, expanding a data structure, or loading large data into memory.\n",
    "e. OverflowError:\n",
    "\n",
    "This error is raised when the result of an arithmetic operation exceeds the range of representable values for a numeric type. It occurs when performing calculations that produce a value that is too large (overflow) to be stored within the available memory for the given data type.\n",
    "f. TabError:\n",
    "\n",
    "This error is raised when there are inconsistencies or improper usage of indentation using tabs and spaces in Python code. It occurs when mixing tabs and spaces for indentation or when the indentation level is not consistent within a code block.\n",
    "g. ValueError:\n",
    "\n",
    "This error is raised when a function receives an argument of the correct data type but with an invalid value. It occurs when trying to convert a value to a different data type using a function like int(), float(), or bool(), and the value is not valid for the target data type. It can also occur when calling a function that expects certain values or parameters to be within a specific range or format, and the provided value does not meet those expectations.\n",
    "These are common errors that can occur in Python programs, and understanding the reasons behind them can help with debugging and writing more robust code."
   ]
  },
  {
   "cell_type": "code",
   "execution_count": null,
   "id": "538e841b",
   "metadata": {},
   "outputs": [],
   "source": []
  },
  {
   "cell_type": "code",
   "execution_count": null,
   "id": "008aa92f",
   "metadata": {},
   "outputs": [],
   "source": [
    "8. Write code for the following given scenario and add try-exception block to it.\n",
    "a. Program to divide two numbers\n",
    "b. Program to convert a string to an integer\n",
    "c. Program to access an element in a list\n",
    "d. Program to handle a specific exception\n",
    "e. Program to handle any exception"
   ]
  },
  {
   "cell_type": "code",
   "execution_count": null,
   "id": "96dbd6ea",
   "metadata": {},
   "outputs": [],
   "source": []
  },
  {
   "cell_type": "code",
   "execution_count": 4,
   "id": "51fb5350",
   "metadata": {},
   "outputs": [
    {
     "name": "stdout",
     "output_type": "stream",
     "text": [
      "0.5\n"
     ]
    }
   ],
   "source": [
    "#a.Program to divide two numbers\n",
    "try:\n",
    "    a=10\n",
    "    b=20\n",
    "    c=a/b\n",
    "    print(c)\n",
    "except:\n",
    "    print(\"Error\")"
   ]
  },
  {
   "cell_type": "code",
   "execution_count": 9,
   "id": "90afd797",
   "metadata": {},
   "outputs": [
    {
     "name": "stdout",
     "output_type": "stream",
     "text": [
      "Enter a number as a string: 32\n",
      "The integer value is: 32\n"
     ]
    }
   ],
   "source": [
    "#b. Program to convert a string to an integer\n",
    "string_num = input(\"Enter a number as a string: \")\n",
    "\n",
    "try:\n",
    "    num = int(string_num)\n",
    "    print(\"The integer value is:\", num)\n",
    "except ValueError:\n",
    "     print(\"Error: Invalid input. Please enter a valid number as a string.\")"
   ]
  },
  {
   "cell_type": "code",
   "execution_count": 13,
   "id": "cc7a719c",
   "metadata": {},
   "outputs": [
    {
     "name": "stdout",
     "output_type": "stream",
     "text": [
      "[]123456789\n",
      "1\n",
      "2\n",
      "3\n",
      "4\n",
      "5\n",
      "6\n",
      "7\n",
      "8\n",
      "9\n"
     ]
    }
   ],
   "source": [
    "#c. Program to access an element in a list\n",
    "try:\n",
    "    lst=input([])\n",
    "    for i in lst:\n",
    "        print(i)\n",
    "except:\n",
    "    print(\"The error occured\")"
   ]
  },
  {
   "cell_type": "code",
   "execution_count": 16,
   "id": "4110bc3a",
   "metadata": {},
   "outputs": [
    {
     "name": "stdout",
     "output_type": "stream",
     "text": [
      "Enter the dividend: 200\n",
      "Enter the divisor: 0\n",
      "Error: Division by zero is not allowed.\n"
     ]
    }
   ],
   "source": [
    "#d. Program to handle a specific exception\n",
    "try:\n",
    "    dividend = int(input(\"Enter the dividend: \"))\n",
    "    divisor = int(input(\"Enter the divisor: \"))\n",
    "\n",
    "    result = dividend / divisor\n",
    "    print(\"Result:\", result)\n",
    "\n",
    "except ZeroDivisionError:\n",
    "    print(\"Error: Division by zero is not allowed.\")"
   ]
  },
  {
   "cell_type": "code",
   "execution_count": 19,
   "id": "276b3de4",
   "metadata": {},
   "outputs": [
    {
     "name": "stdout",
     "output_type": "stream",
     "text": [
      "Enter the dividend: 90\n",
      "Enter the divisor: 0\n",
      "An error occurred: division by zero\n"
     ]
    }
   ],
   "source": [
    "#e. Program to handle any exception\n",
    "try:\n",
    "    dividend = int(input(\"Enter the dividend: \"))\n",
    "    divisor = int(input(\"Enter the divisor: \"))\n",
    "\n",
    "    result = dividend / divisor\n",
    "    print(\"Result:\", result)\n",
    "\n",
    "except Exception as e:\n",
    "    print(\"An error occurred:\", str(e))"
   ]
  },
  {
   "cell_type": "code",
   "execution_count": null,
   "id": "f844ab14",
   "metadata": {},
   "outputs": [],
   "source": []
  }
 ],
 "metadata": {
  "kernelspec": {
   "display_name": "Python 3 (ipykernel)",
   "language": "python",
   "name": "python3"
  },
  "language_info": {
   "codemirror_mode": {
    "name": "ipython",
    "version": 3
   },
   "file_extension": ".py",
   "mimetype": "text/x-python",
   "name": "python",
   "nbconvert_exporter": "python",
   "pygments_lexer": "ipython3",
   "version": "3.10.9"
  }
 },
 "nbformat": 4,
 "nbformat_minor": 5
}
