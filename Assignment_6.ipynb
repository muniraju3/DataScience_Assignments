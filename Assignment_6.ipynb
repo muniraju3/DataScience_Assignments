{
 "cells": [
  {
   "cell_type": "code",
   "execution_count": null,
   "id": "cc6553ce",
   "metadata": {},
   "outputs": [],
   "source": [
    "## Assignment 6"
   ]
  },
  {
   "cell_type": "code",
   "execution_count": null,
   "id": "d182f70e",
   "metadata": {},
   "outputs": [],
   "source": [
    "Q.1. What are keywords in python? Using the keyword library, print all the python keywords."
   ]
  },
  {
   "cell_type": "code",
   "execution_count": null,
   "id": "8910b701",
   "metadata": {},
   "outputs": [],
   "source": [
    "Python keywords are special reserved words that have specific meanings and purposes and can’t be used for anything but those specific purposes. These keywords are always available—you’ll never have to import them into your code."
   ]
  },
  {
   "cell_type": "code",
   "execution_count": 2,
   "id": "223a1ffd",
   "metadata": {},
   "outputs": [
    {
     "data": {
      "text/plain": [
       "['False',\n",
       " 'None',\n",
       " 'True',\n",
       " 'and',\n",
       " 'as',\n",
       " 'assert',\n",
       " 'async',\n",
       " 'await',\n",
       " 'break',\n",
       " 'class',\n",
       " 'continue',\n",
       " 'def',\n",
       " 'del',\n",
       " 'elif',\n",
       " 'else',\n",
       " 'except',\n",
       " 'finally',\n",
       " 'for',\n",
       " 'from',\n",
       " 'global',\n",
       " 'if',\n",
       " 'import',\n",
       " 'in',\n",
       " 'is',\n",
       " 'lambda',\n",
       " 'nonlocal',\n",
       " 'not',\n",
       " 'or',\n",
       " 'pass',\n",
       " 'raise',\n",
       " 'return',\n",
       " 'try',\n",
       " 'while',\n",
       " 'with',\n",
       " 'yield']"
      ]
     },
     "execution_count": 2,
     "metadata": {},
     "output_type": "execute_result"
    }
   ],
   "source": [
    "import keyword\n",
    "keyword.kwlist"
   ]
  },
  {
   "cell_type": "code",
   "execution_count": null,
   "id": "d344a165",
   "metadata": {},
   "outputs": [],
   "source": [
    "Q.2. What are the rules to create variables in python?\n"
   ]
  },
  {
   "cell_type": "code",
   "execution_count": null,
   "id": "ce899eb5",
   "metadata": {},
   "outputs": [],
   "source": [
    "A Python variable name must start with a letter or the underscore character.\n",
    "A Python variable name cannot start with a number.\n",
    "A Python variable name can only contain alpha-numeric characters and underscores (A-z, 0-9, and _ ).\n",
    "Variable in Python names are case-sensitive (name, Name, and NAME are three different variables).\n",
    "The reserved words(keywords) in Python cannot be used to name the variable in Python."
   ]
  },
  {
   "cell_type": "code",
   "execution_count": null,
   "id": "7dcfb433",
   "metadata": {},
   "outputs": [],
   "source": []
  },
  {
   "cell_type": "code",
   "execution_count": null,
   "id": "7f9ad0f5",
   "metadata": {},
   "outputs": [],
   "source": [
    "Q.3. What are the standards and conventions followed for the nomenclature of variables in\n",
    "python to improve code readability and maintainability?"
   ]
  },
  {
   "cell_type": "code",
   "execution_count": null,
   "id": "1b322b19",
   "metadata": {},
   "outputs": [],
   "source": [
    "In Python, there are several standards and conventions followed for variable naming to improve code readability and maintainability. These conventions are described in the official Python style guide known as PEP 8 (Python Enhancement Proposal 8). Here are some key guidelines:\n",
    "\n",
    "1)Use descriptive names: Choose variable names that are meaningful and describe the purpose or content of the variable. This helps in understanding the code and its functionality.\n",
    "\n",
    "2)Use lowercase letters: Variable names should be in lowercase letters, and words can be separated by underscores (\"snake_case\"). For example: user_name, item_count.\n",
    "\n",
    "3)Avoid single-letter names: Unless used as loop counters or indices, avoid single-letter variable names as they are often not descriptive enough. Use meaningful names that indicate the purpose of the variable.\n",
    "\n",
    "4)Be consistent: Maintain consistency in naming conventions throughout your codebase. If you start using a specific naming style, stick to it consistently.\n",
    "\n",
    "5)Use lowercase for module-level constants: If you have module-level constants, use lowercase letters with underscores to separate words. For example: max_attempts, default_timeout.\n",
    "\n",
    "6)Use uppercase for global constants: Global constants should be written in uppercase letters with underscores to separate words. For example: PI, DEFAULT_PORT.\n",
    "\n",
    "7)Avoid reserved keywords: Do not use Python reserved keywords (such as if, for, while, etc.) as variable names.\n",
    "\n",
    "8)Follow class naming conventions: Class names should use CamelCase notation (also known as PascalCase), where each word starts with an uppercase letter. For example: Car, CustomerAccount.\n",
    "\n",
    "9)Use self-explanatory names for objects: When naming objects or instances, use names that clearly indicate their purpose or role within the code.\n",
    "\n",
    "10)Avoid name clashes: Be mindful of potential name clashes with built-in functions or modules. Try to use unique names that are less likely to conflict with existing Python functionality."
   ]
  },
  {
   "cell_type": "code",
   "execution_count": null,
   "id": "b22cd0fc",
   "metadata": {},
   "outputs": [],
   "source": []
  },
  {
   "cell_type": "code",
   "execution_count": null,
   "id": "55eb7d5d",
   "metadata": {},
   "outputs": [],
   "source": [
    "Q4.What will happen if a keyword is used as a variable name?"
   ]
  },
  {
   "cell_type": "code",
   "execution_count": null,
   "id": "d11dd693",
   "metadata": {},
   "outputs": [],
   "source": [
    "Ans:\n",
    "  Cell In[168], line 1\n",
    "    and=\"name\"\n",
    "    ^\n",
    "SyntaxError: invalid syntax\n",
    "    \n",
    "    Keywords define the language's syntax rules and structure, and they cannot be used as variable names"
   ]
  },
  {
   "cell_type": "code",
   "execution_count": null,
   "id": "930e8d99",
   "metadata": {},
   "outputs": [],
   "source": []
  },
  {
   "cell_type": "code",
   "execution_count": null,
   "id": "eed98eb0",
   "metadata": {},
   "outputs": [],
   "source": [
    "Q.5. For what purpose def keyword is used?\n",
    "Ans:The def keyword is used to create, (or define) a function."
   ]
  },
  {
   "cell_type": "code",
   "execution_count": null,
   "id": "a4ba4959",
   "metadata": {},
   "outputs": [],
   "source": []
  },
  {
   "cell_type": "code",
   "execution_count": null,
   "id": "d022655a",
   "metadata": {},
   "outputs": [],
   "source": [
    "Q.6. What is the operation of this special character ‘\\’?\n",
    "Ans:the backslash \"\\\" is a special character, also called the \"escape\" character. It is used in representing certain whitespace characters: \"\\t\" is a tab, \"\\n\" is a newline, and \"\\r\" is a carriage return."
   ]
  },
  {
   "cell_type": "code",
   "execution_count": null,
   "id": "819c427b",
   "metadata": {},
   "outputs": [],
   "source": []
  },
  {
   "cell_type": "code",
   "execution_count": null,
   "id": "8819078b",
   "metadata": {},
   "outputs": [],
   "source": [
    "Q.7. Give an example of the following conditions:\n",
    "(i) Homogeneous list\n",
    "(ii) Heterogeneous set\n",
    "(iii) Homogeneous tuple"
   ]
  },
  {
   "cell_type": "code",
   "execution_count": null,
   "id": "8ab26f7e",
   "metadata": {},
   "outputs": [],
   "source": [
    "Homogeneous list:\n",
    "    In Python, a homogeneous list is a list that contains elements of the same data type. All the elements within the list have the same type, whether it's integers, floats, strings, or any other data type.\n",
    "\n",
    "Here's an example of creating a homogeneous list containing integers: numbers = [1, 2, 3, 4, 5]"
   ]
  },
  {
   "cell_type": "code",
   "execution_count": null,
   "id": "2e6f3f93",
   "metadata": {},
   "outputs": [],
   "source": [
    "Heterogeneous set:\n",
    "    In Python, a heterogeneous set is a set that can contain elements of different data types. Unlike a homogeneous set, where all elements have the same type, a heterogeneous set allows for a mix of different data types within the same set.\n",
    "\n",
    "Here's an example of creating a heterogeneous set: my_set = {1, \"apple\", 3.14, True}"
   ]
  },
  {
   "cell_type": "code",
   "execution_count": null,
   "id": "009bf326",
   "metadata": {},
   "outputs": [],
   "source": [
    "Homogeneous tuple:\n",
    "    In Python, a homogeneous tuple is a tuple that contains elements of the same data type. A tuple is an ordered collection of elements enclosed in parentheses, and each element within the tuple can have the same data type.\n",
    "\n",
    "Here's an example of creating a homogeneous tuple containing integers:numbers = (1, 2, 3, 4, 5)"
   ]
  },
  {
   "cell_type": "code",
   "execution_count": null,
   "id": "d53e9396",
   "metadata": {},
   "outputs": [],
   "source": []
  },
  {
   "cell_type": "code",
   "execution_count": null,
   "id": "f1b7d504",
   "metadata": {},
   "outputs": [],
   "source": [
    "Q.8. Explain the mutable and immutable data types with proper explanation & examples.\n",
    "\n",
    "Immutable Data Types:\n",
    "    Immutable objects are those whose values cannot be modified once they are created. Any attempt to modify an immutable object results in creating a new object with the modified value, rather than modifying the original object itself. Immutable objects are useful when you want to ensure data integrity and prevent unintended changes.\n",
    "\n",
    "Examples of immutable data types in Python include:\n",
    "\n",
    "Numeric types (int, float, complex)\n",
    "Strings (str)\n",
    "Tuples (tuple)\n",
    "Here's an example to illustrate the immutability of strings:\n",
    "name = \"Alice\"\n",
    "new_name = name.upper()\n",
    "print(name)      # Output: \"Alice\"\n",
    "print(new_name)  # Output: \"ALICE\"\n",
    "\n",
    "Mutable Data Types:\n",
    "    Mutable objects, on the other hand, allow their values to be modified after creation. You can directly change the internal state or elements of a mutable object without creating a new object. Mutable objects are useful when you need to modify data frequently or when you want to maintain a dynamic data structure.\n",
    "\n",
    "Examples of mutable data types in Python include:\n",
    "\n",
    "Lists (list)\n",
    "Dictionaries (dict)\n",
    "Sets (set)\n",
    "Here's an example showcasing the mutability of lists:\n",
    "numbers = [1, 2, 3, 4]\n",
    "numbers.append(5)\n",
    "print(numbers)  # Output: [1, 2, 3, 4, 5]\n",
    "\n",
    "numbers[0] = 0\n",
    "print(numbers)  # Output: [0, 2, 3, 4, 5]"
   ]
  },
  {
   "cell_type": "code",
   "execution_count": null,
   "id": "6a2fc50d",
   "metadata": {},
   "outputs": [],
   "source": []
  },
  {
   "cell_type": "code",
   "execution_count": null,
   "id": "1d439a50",
   "metadata": {},
   "outputs": [],
   "source": [
    "Q.9. Write a code to create the given structure using only for loop.\n",
    "     *\n",
    "    ***\n",
    "   *****\n",
    "  *******\n",
    " *********"
   ]
  },
  {
   "cell_type": "code",
   "execution_count": 4,
   "id": "7e509351",
   "metadata": {},
   "outputs": [
    {
     "name": "stdout",
     "output_type": "stream",
     "text": [
      "    *\n",
      "   ***\n",
      "  *****\n",
      " *******\n",
      "*********\n"
     ]
    }
   ],
   "source": [
    "rows = 5  # Number of rows in the pyramid\n",
    "\n",
    "for i in range(rows):\n",
    "    for j in range(rows - i - 1):\n",
    "        print(\" \", end=\"\")\n",
    "    for k in range(2 * i + 1):\n",
    "        print(\"*\", end=\"\")\n",
    "    print()"
   ]
  },
  {
   "cell_type": "code",
   "execution_count": null,
   "id": "547f5a6f",
   "metadata": {},
   "outputs": [],
   "source": []
  },
  {
   "cell_type": "code",
   "execution_count": null,
   "id": "c3f3a0d2",
   "metadata": {},
   "outputs": [],
   "source": [
    "Q.10. Write a code to create the given structure using while loop.\n",
    "|||||||||\n",
    " |||||||\n",
    "  |||||\n",
    "   |||\n",
    "    |"
   ]
  },
  {
   "cell_type": "code",
   "execution_count": 5,
   "id": "37855204",
   "metadata": {},
   "outputs": [
    {
     "name": "stdout",
     "output_type": "stream",
     "text": [
      "lllllllll\n",
      " lllllll\n",
      "  lllll\n",
      "   lll\n",
      "    l\n"
     ]
    }
   ],
   "source": [
    "rows = 5  # Number of rows in the inverse pyramid\n",
    "\n",
    "for i in range(rows, 0, -1):\n",
    "    for j in range(rows - i):\n",
    "        print(\" \", end=\"\")\n",
    "    for k in range(2 * i - 1):\n",
    "        print(\"l\", end=\"\")\n",
    "    print()"
   ]
  },
  {
   "cell_type": "code",
   "execution_count": null,
   "id": "6424703d",
   "metadata": {},
   "outputs": [],
   "source": []
  }
 ],
 "metadata": {
  "kernelspec": {
   "display_name": "Python 3 (ipykernel)",
   "language": "python",
   "name": "python3"
  },
  "language_info": {
   "codemirror_mode": {
    "name": "ipython",
    "version": 3
   },
   "file_extension": ".py",
   "mimetype": "text/x-python",
   "name": "python",
   "nbconvert_exporter": "python",
   "pygments_lexer": "ipython3",
   "version": "3.10.9"
  }
 },
 "nbformat": 4,
 "nbformat_minor": 5
}
