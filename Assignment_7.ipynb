{
 "cells": [
  {
   "cell_type": "code",
   "execution_count": null,
   "id": "10ccd19e",
   "metadata": {},
   "outputs": [],
   "source": [
    "Q.1. Create two int type variables, apply addition, subtraction, division and multiplications\n",
    "and store the results in variables. Then print the data in the following format by calling the\n",
    "variables:\n",
    "First variable is __ & second variable is __.\n",
    "Addition: __ + __ = __\n",
    "Subtraction: __ - __ = __\n",
    "Multiplication: __ * __ = __\n",
    "Division: __ / __ = __\n"
   ]
  },
  {
   "cell_type": "code",
   "execution_count": 1,
   "id": "ab2a5dbb",
   "metadata": {},
   "outputs": [
    {
     "name": "stdout",
     "output_type": "stream",
     "text": [
      "First variable is 10'&' second variable is 20.\n",
      "Addition:10'+'20'=''30\n",
      "Subtraction:10'-'20'=''-10\n",
      "Multiplication:10'*'20'=''200\n",
      "Division:10'/'20'=''0.5\n"
     ]
    }
   ],
   "source": [
    "a=10\n",
    "b=20\n",
    "A=a+b\n",
    "S=a-b\n",
    "M=a*b\n",
    "D=a/b\n",
    "print(f\"First variable is {a}'&' second variable is {b}.\")\n",
    "print(f\"Addition:{a}'+'{b}'=''{A}\")\n",
    "print(f\"Subtraction:{a}'-'{b}'=''{S}\")\n",
    "print(f\"Multiplication:{a}'*'{b}'=''{M}\")\n",
    "print(f\"Division:{a}'/'{b}'=''{D}\")\n"
   ]
  },
  {
   "cell_type": "code",
   "execution_count": null,
   "id": "019a01b3",
   "metadata": {},
   "outputs": [],
   "source": []
  },
  {
   "cell_type": "code",
   "execution_count": null,
   "id": "c6e3084b",
   "metadata": {},
   "outputs": [],
   "source": [
    "Q.2. What is the difference between the following operators:\n",
    "(i) ‘/’ & ‘//’\n",
    "(ii) ‘**’ & ‘^’\n"
   ]
  },
  {
   "cell_type": "code",
   "execution_count": null,
   "id": "ffd3c4e8",
   "metadata": {},
   "outputs": [],
   "source": [
    "(i) '/': This is the division operator in Python. It performs regular floating-point division, which means that it calculates the quotient and returns a floating-point result. \n",
    "For example:\n",
    "result = 7 / 3\n",
    "print(result)  # Output: 2.3333333333333335\n",
    "\n",
    "(ii) '//': This is the floor division operator in Python. It performs division and rounds down the result to the nearest whole number (integer). It discards any fractional part of the result. \n",
    "    For example:\n",
    "result = 7 // 3\n",
    "print(result)  # Output: 2\n",
    "\n",
    "(iii) '**': This is the exponentiation operator in Python. It raises the left operand to the power of the right operand. \n",
    "    For example:\n",
    "        result = 2 ** 3\n",
    "print(result)  # Output: 8\n",
    "\n",
    "(iv) '^': The caret symbol (^) is not an exponentiation operator in Python. Instead, it is the bitwise XOR operator. It performs bitwise XOR operation on the binary representation of two operands. It calculates the XOR of each corresponding bit of the operands.\n",
    "    For example:\n",
    "    result = 5 ^ 3\n",
    "print(result)  # Output: 6"
   ]
  },
  {
   "cell_type": "code",
   "execution_count": null,
   "id": "2462a584",
   "metadata": {},
   "outputs": [],
   "source": []
  },
  {
   "cell_type": "code",
   "execution_count": null,
   "id": "36fb5abf",
   "metadata": {},
   "outputs": [],
   "source": [
    "Q.3. List the logical operators."
   ]
  },
  {
   "cell_type": "code",
   "execution_count": null,
   "id": "c779f261",
   "metadata": {},
   "outputs": [],
   "source": [
    "The logical operators are used to perform logical operations on boolean values or expressions. Here are the logical operators in Python:\n",
    "\n",
    "Logical AND (and): The and operator returns True if both operands are True, and False otherwise. It evaluates the second operand only if the first operand is True.\n",
    "\n",
    "Logical OR (or): The or operator returns True if at least one of the operands is True, and False if both operands are False. It evaluates the second operand only if the first operand is False.\n",
    "\n",
    "Logical NOT (not): The not operator is a unary operator that negates the truth value of an expression. It returns True if the expression is False, and False if the expression is True.\n",
    "\n",
    "Here's an example to demonstrate the usage of logical operators:\n",
    "x = 5\n",
    "y = 10\n",
    "z = 15\n",
    "\n",
    "# Logical AND\n",
    "print(x < y and y < z)  # Output: True\n",
    "\n",
    "# Logical OR\n",
    "print(x < y or y > z)   # Output: True\n",
    "\n",
    "# Logical NOT\n",
    "print(not x < y)        # Output: False"
   ]
  },
  {
   "cell_type": "code",
   "execution_count": null,
   "id": "63349149",
   "metadata": {},
   "outputs": [],
   "source": []
  },
  {
   "cell_type": "code",
   "execution_count": null,
   "id": "6e0162a7",
   "metadata": {},
   "outputs": [],
   "source": [
    "Q.4. Explain right shift operator and left shift operator with examples."
   ]
  },
  {
   "cell_type": "code",
   "execution_count": null,
   "id": "8e9eb769",
   "metadata": {},
   "outputs": [],
   "source": [
    "In Python, the right shift operator (>>) and left shift operator (<<) are bitwise operators that perform shifting operations on the binary representation of integers. These operators shift the bits of a number to the right or left by a specified number of positions. Here's an explanation of both operators with examples:\n",
    "\n",
    "1)Right Shift Operator (>>):\n",
    "The right shift operator shifts the bits of a number to the right by a specified number of positions. It effectively divides the number by 2 raised to the power of the shift amount. The rightmost bits are discarded, and zeros are added as the new leftmost bits.\n",
    "Example:\n",
    "    num = 16\n",
    "shift_amount = 2\n",
    "\n",
    "result = num >> shift_amount\n",
    "print(result)  # Output: 4\n",
    "\n",
    "In this example, the number 16 (binary: 10000) is shifted 2 positions to the right using the right shift operator (>>). The result is 4 (binary: 100), which is obtained by discarding the rightmost two bits and adding zeros as the new leftmost bits.\n",
    "\n",
    "2)Left Shift Operator (<<):\n",
    "The left shift operator shifts the bits of a number to the left by a specified number of positions. It effectively multiplies the number by 2 raised to the power of the shift amount. Zeros are added as the new rightmost bits.\n",
    "Example:\n",
    "    num = 5\n",
    "shift_amount = 3\n",
    "\n",
    "result = num << shift_amount\n",
    "print(result)  # Output: 40\n",
    "In this example, the number 5 (binary: 101) is shifted 3 positions to the left using the left shift operator (<<). The result is 40 (binary: 101000), which is obtained by adding three zeros as the new rightmost bits.\n",
    "\n",
    "The right shift (>>) and left shift (<<) operators are commonly used in low-level programming, bitwise operations, and optimizing certain algorithms that involve manipulating binary representations of numbers."
   ]
  },
  {
   "cell_type": "code",
   "execution_count": null,
   "id": "aaa37740",
   "metadata": {},
   "outputs": [],
   "source": []
  },
  {
   "cell_type": "code",
   "execution_count": null,
   "id": "483ac706",
   "metadata": {},
   "outputs": [],
   "source": [
    "Q.5. Create a list containing int type data of length 15. Then write a code to check if 10 is\n",
    "present in the list or not"
   ]
  },
  {
   "cell_type": "code",
   "execution_count": 11,
   "id": "5d24800f",
   "metadata": {},
   "outputs": [
    {
     "name": "stdout",
     "output_type": "stream",
     "text": [
      "Number 10 is not present in this list\n"
     ]
    }
   ],
   "source": [
    "list=[1,2,3,4,5,6,7,8,9,110,11,12,13,14,15]\n",
    "for i in list:\n",
    "    if(i==10):\n",
    "        a=True\n",
    "        break\n",
    "       \n",
    "    else:\n",
    "        a=False\n",
    "        \n",
    "if(a==True):\n",
    "    print(f\"Number 10 is present in this list\")\n",
    "else:\n",
    "    print(f\"Number 10 is not present in this list\")\n",
    "    \n",
    "    "
   ]
  },
  {
   "cell_type": "code",
   "execution_count": null,
   "id": "7068e48a",
   "metadata": {},
   "outputs": [],
   "source": []
  },
  {
   "cell_type": "code",
   "execution_count": null,
   "id": "afd19042",
   "metadata": {},
   "outputs": [],
   "source": []
  }
 ],
 "metadata": {
  "kernelspec": {
   "display_name": "Python 3 (ipykernel)",
   "language": "python",
   "name": "python3"
  },
  "language_info": {
   "codemirror_mode": {
    "name": "ipython",
    "version": 3
   },
   "file_extension": ".py",
   "mimetype": "text/x-python",
   "name": "python",
   "nbconvert_exporter": "python",
   "pygments_lexer": "ipython3",
   "version": "3.10.9"
  }
 },
 "nbformat": 4,
 "nbformat_minor": 5
}
