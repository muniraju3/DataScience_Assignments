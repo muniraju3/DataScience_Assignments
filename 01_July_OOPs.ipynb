{
 "cells": [
  {
   "cell_type": "code",
   "execution_count": null,
   "id": "4c864728",
   "metadata": {},
   "outputs": [],
   "source": [
    "#1. What is the primary goal of Object-Oriented Programming (OOP)?\n",
    "\n",
    "The primary goal of Object-Oriented Programming (OOP) is to provide a way of organizing and structuring software code to represent real-world objects or concepts. OOP aims to model the problem domain more closely, making it easier to understand, maintain, and modify the code over time.\n",
    "OOP promotes modular design, code reusability, and flexibility, making it easier to develop and maintain complex software systems. It aims to enhance productivity, code organization, and the ability to adapt to changing requirements in software development."
   ]
  },
  {
   "cell_type": "code",
   "execution_count": null,
   "id": "4afd6756",
   "metadata": {},
   "outputs": [],
   "source": []
  },
  {
   "cell_type": "code",
   "execution_count": null,
   "id": "596db779",
   "metadata": {},
   "outputs": [],
   "source": [
    "#2.What is an object in Python?\n",
    "\n",
    "In Python, an object is a fundamental concept that represents a specific instance of a class. It is a data structure that combines both data (attributes or properties) and the methods (functions) that operate on that data. Objects are the building blocks of object-oriented programming in Python.\n",
    "\n",
    "To create an object, you typically define a class, which serves as a blueprint or template for creating objects of a specific type. The class defines the attributes (variables) and methods (functions) that the objects will have. Each object created from a class is considered an instance of that class.\n",
    "\n",
    "class Person:\n",
    "    def __init__(self, name, age):\n",
    "        self.name = name\n",
    "        self.age = age\n",
    "\n",
    "    def greet(self):\n",
    "        print(f\"Hello, my name is {self.name} and I am {self.age} years old.\")\n",
    "\n",
    "# Creating objects (instances) of the Person class\n",
    "person1 = Person(\"Alice\", 25)\n",
    "person2 = Person(\"Bob\", 30)\n",
    "\n",
    "# Accessing object attributes\n",
    "print(person1.name)  # Output: Alice\n",
    "print(person2.age)   # Output: 30\n",
    "\n",
    "# Calling object methods\n",
    "person1.greet()  # Output: Hello, my name is Alice and I am 25 years old.\n",
    "person2.greet()  # Output: Hello, my name is Bob and I am 30 years old.\n",
    "\n",
    "person1,person2 is objects"
   ]
  },
  {
   "cell_type": "code",
   "execution_count": null,
   "id": "19e6ad84",
   "metadata": {},
   "outputs": [],
   "source": []
  },
  {
   "cell_type": "code",
   "execution_count": null,
   "id": "c722b479",
   "metadata": {},
   "outputs": [],
   "source": [
    "#3.What is a class in Python?\n",
    "a class is a blueprint or a template for creating objects. It defines the structure and behavior that the objects of that class will possess. A class acts as a container that encapsulates data (attributes) and the functions (methods) that operate on that data.\n",
    "\n",
    "syntax:\n",
    "    class Classname:"
   ]
  },
  {
   "cell_type": "code",
   "execution_count": null,
   "id": "88a8617a",
   "metadata": {},
   "outputs": [],
   "source": []
  },
  {
   "cell_type": "code",
   "execution_count": null,
   "id": "3790fd39",
   "metadata": {},
   "outputs": [],
   "source": [
    "#4.. What are attributes and methods in a class?\n",
    "Attributes: Attributes, also known as properties or instance variables, are the data associated with an object. They represent the state or characteristics of an object. Attributes store information that can be unique for each instance of the class.\n",
    "\n",
    "For example, in a class representing a \"Person,\" attributes could include \"name,\" \"age,\" and \"gender.\" Each instance of the \"Person\" class would have its own values assigned to these attributes.\n",
    "Attributes are accessed using the dot notation, where the object name is followed by the attribute name. For instance, if we have an object named \"person\" with an attribute \"name,\" we can access it using person.name\n",
    "\n",
    "\n",
    "Methods: Methods are functions defined within a class that can perform specific actions or operations on the object's attributes. They define the behaviors or actions that objects of the class can perform. Methods can access and manipulate the object's attributes, and they can also perform calculations, interact with other objects, or communicate with external systems."
   ]
  },
  {
   "cell_type": "code",
   "execution_count": null,
   "id": "84d286fa",
   "metadata": {},
   "outputs": [],
   "source": []
  },
  {
   "cell_type": "code",
   "execution_count": null,
   "id": "3c36bf91",
   "metadata": {},
   "outputs": [],
   "source": [
    "#5.What is the difference between class variables and instance variables in Python?"
   ]
  },
  {
   "cell_type": "code",
   "execution_count": null,
   "id": "652397b2",
   "metadata": {},
   "outputs": [],
   "source": [
    "In Python, class variables and instance variables are both types of variables that can be defined within a class. However, they have some key differences in terms of their scope and usage.\n",
    "\n",
    "Scope:\n",
    "\n",
    "Class variables: These variables are shared by all instances (objects) of a class. They are defined within the class but outside any methods or constructors. Class variables are accessible to all instances of the class as well as the class itself.\n",
    "Instance variables: These variables are specific to each instance of a class. They are defined within a class's methods or constructors using the self keyword. Instance variables are unique to each object and can have different values for different instances.\n",
    "Usage:\n",
    "\n",
    "Class variables: They are often used to store data that is shared among all instances of a class. For example, if you have a class representing a car, a class variable like num_wheels = 4 can be used to store the number of wheels, which would be the same for all cars. Class variables can be accessed using the class name or any instance of the class.\n",
    "Instance variables: They are used to store data that is unique to each instance of a class. For example, in the car class mentioned earlier, instance variables like color or model can be used to store specific characteristics of each car object. Instance variables are accessed using the instance name (self) within the class's methods or constructors.\n",
    "Modification and inheritance:\n",
    "\n",
    "Class variables: If a class variable is modified, the change is reflected in all instances and even new instances that are created. When a subclass inherits a class variable, it can access and modify it, but the modification affects only the subclass, not the superclass or other subclasses.\n",
    "Instance variables: Each instance of a class has its own copy of instance variables. Modifying an instance variable only affects the specific instance on which the modification is made and does not affect other instances or the class itself."
   ]
  },
  {
   "cell_type": "code",
   "execution_count": null,
   "id": "78079a9b",
   "metadata": {},
   "outputs": [],
   "source": []
  },
  {
   "cell_type": "code",
   "execution_count": null,
   "id": "c9058bb3",
   "metadata": {},
   "outputs": [],
   "source": [
    "#6.What is the purpose of the self parameter in Python class methods?\n",
    "\n",
    "In Python, the self parameter in class methods serves as a reference to the instance of the class itself. It is a convention to name the first parameter of an instance method as self, although you can technically choose any name.\n",
    "\n",
    "The purpose of the self parameter is to allow instance methods to access and modify the instance's attributes (instance variables) and invoke other methods of the same instance. When a method is called on an instance, the instance itself is automatically passed as the self argument.\n",
    "\n",
    "Here are a few key points regarding the purpose and usage of the self parameter:\n",
    "\n",
    "Accessing instance attributes: Inside an instance method, you can access the instance's attributes (instance variables) using the self parameter. For example, self.attribute_name. This allows the method to retrieve and operate on the specific data associated with the instance.\n",
    "\n",
    "Modifying instance attributes: Instance methods can modify the instance's attributes by assigning values to them using the self parameter. For example, self.attribute_name = new_value. This allows the method to update the state of the instance.\n",
    "\n",
    "Invoking other instance methods: By using the self parameter, an instance method can invoke other methods of the same instance. This allows for method chaining and organizing related functionality within the class.\n",
    "\n",
    "Distinguishing instance variables from local variables: The self parameter is used to differentiate between instance variables and local variables within a method. Without self, the method would treat a variable as a local variable and not access or modify the instance's attributes."
   ]
  },
  {
   "cell_type": "code",
   "execution_count": null,
   "id": "ae6561ae",
   "metadata": {},
   "outputs": [],
   "source": []
  },
  {
   "cell_type": "code",
   "execution_count": null,
   "id": "53802ca0",
   "metadata": {},
   "outputs": [],
   "source": [
    "#7.For a library management system, you have to design the \"Book\" class with OOP\n",
    "principles in mind. The “Book” class will have following attributes:\n",
    "a. title: Represents the title of the book.\n",
    "b. author: Represents the author(s) of the book.\n",
    "c. isbn: Represents the ISBN (International Standard Book Number) of the book.\n",
    "d. publication_year: Represents the year of publication of the book.\n",
    "e. available_copies: Represents the number of copies available for checkout.\n",
    "The class will also include the following methods:\n",
    "a. check_out(self): Decrements the available copies by one if there are copies\n",
    "available for checkout.\n",
    "b. return_book(self): Increments the available copies by one when a book is\n",
    "returned.\n",
    "c. display_book_info(self): Displays the information about the book, including its\n",
    "attributes and the number of available copies."
   ]
  },
  {
   "cell_type": "code",
   "execution_count": 45,
   "id": "c9a70acb",
   "metadata": {},
   "outputs": [
    {
     "name": "stdout",
     "output_type": "stream",
     "text": [
      "201\n",
      "The title of book is the secret authored by Rhonda Byrne\n"
     ]
    }
   ],
   "source": [
    "class Book:\n",
    "    def __init__(self,title,author,isbn,publication_year,available_copies):\n",
    "        self.title=title\n",
    "        self.author=author\n",
    "        self.isbn=isbn\n",
    "        self.publication_year=publication_year\n",
    "        self.available_copies=available_copies\n",
    "    \n",
    "    def check_out(self,title,available_copies):\n",
    "        if (available_copies >=1):\n",
    "            available_copies=available_copies-1\n",
    "            print(available_copies)\n",
    "        \n",
    "    def return_book(self,title,available_copies):\n",
    "        available_copies=available_copies+1\n",
    "        print(available_copies)\n",
    "        \n",
    "        \n",
    "    def display_book(self):\n",
    "        print(f\"The title of book is {self.title} authored by {self.author}\")\n",
    "        \n",
    "    \n",
    "book=Book(\"the secret\",\"Rhonda Byrne\",\"isbn\",2020,100)\n",
    "book.title\n",
    "book.available_copies\n",
    "book.isbn\n",
    "book.return_book(\"the secret\",200)\n",
    "book.display_book()\n"
   ]
  },
  {
   "cell_type": "code",
   "execution_count": null,
   "id": "5a054439",
   "metadata": {},
   "outputs": [],
   "source": []
  },
  {
   "cell_type": "code",
   "execution_count": null,
   "id": "7b88c936",
   "metadata": {},
   "outputs": [],
   "source": [
    "#8.For a ticket booking system, you have to design the \"Ticket\" class with OOP\n",
    "principles in mind. The “Ticket” class should have the following attributes:\n",
    "a. ticket_id: Represents the unique identifier for the ticket.\n",
    "b. event_name: Represents the name of the event.\n",
    "c. event_date: Represents the date of the event.\n",
    "d. venue: Represents the venue of the event.\n",
    "e. seat_number: Represents the seat number associated with the ticket.\n",
    "f. price: Represents the price of the ticket.\n",
    "g. is_reserved: Represents the reservation status of the ticket.\n",
    "The class also includes the following methods:\n",
    "a. reserve_ticket(self): Marks the ticket as reserved if it is not already reserved.\n",
    "b. cancel_reservation(self): Cancels the reservation of the ticket if it is already\n",
    "reserved.\n",
    "c. display_ticket_info(self): Displays the information about the ticket, including its\n",
    "attributes and reservation status."
   ]
  },
  {
   "cell_type": "code",
   "execution_count": 54,
   "id": "c59313b8",
   "metadata": {},
   "outputs": [
    {
     "name": "stdout",
     "output_type": "stream",
     "text": [
      "ticket is reserved now, Happy Journey\n",
      "Cancel the Ticket number:7\n",
      "Ticket number is:7\n"
     ]
    }
   ],
   "source": [
    "class Ticket:\n",
    "    def __init__(self,ticket_id,event_name,event_date,venue,seat_number,price,is_reserved):\n",
    "        self.ticket_id=ticket_id\n",
    "        self.event_name=event_name\n",
    "        self.event_date=event_date\n",
    "        self.venue=venue\n",
    "        self.seat_number=seat_number\n",
    "        self.price=price\n",
    "        self.is_reserved=is_reserved\n",
    "    \n",
    "    def reserve_ticket(self,is_reserved):\n",
    "        if (is_reserved !=True):\n",
    "            is_reserved= True\n",
    "            print(\"ticket is reserved now, Happy Journey\")\n",
    "        else:\n",
    "            print(\"ticket is not reserved\")\n",
    "        \n",
    "    def cancel_reservation(self):\n",
    "        print(f\"Cancel the Ticket number:{self.ticket_id}\")\n",
    "        \n",
    "    def display_ticket_info(self):\n",
    "        print(f\"Ticket number is:{self.ticket_id}\")\n",
    "        \n",
    "ticket= Ticket(\"7\",\"train journey\",\"24/05/2007\",\"Hosur\",\"18\",1700,False)\n",
    "ticket.reserve_ticket(False)\n",
    "ticket.cancel_reservation()\n",
    "ticket.display_ticket_info()\n",
    "\n",
    "        \n",
    "        "
   ]
  },
  {
   "cell_type": "code",
   "execution_count": null,
   "id": "728814b6",
   "metadata": {},
   "outputs": [],
   "source": []
  },
  {
   "cell_type": "code",
   "execution_count": null,
   "id": "42c92c3e",
   "metadata": {},
   "outputs": [],
   "source": [
    "#9.You are creating a shopping cart for an e-commerce website. Using OOP to model\n",
    "the \"ShoppingCart\" functionality the class should contain following attributes and\n",
    "methods:\n",
    "a. items: Represents the list of items in the shopping cart.\n",
    "The class also includes the following methods:\n",
    "a. add_item(self, item): Adds an item to the shopping cart by appending it to the\n",
    "list of items.\n",
    "b. remove_item(self, item): Removes an item from the shopping cart if it exists in\n",
    "the list.\n",
    "c. view_cart(self): Displays the items currently present in the shopping cart.\n",
    "d. clear_cart(self): Clears all items from the shopping cart by reassigning an\n",
    "empty list to the items attribute."
   ]
  },
  {
   "cell_type": "code",
   "execution_count": 58,
   "id": "c1eab428",
   "metadata": {},
   "outputs": [
    {
     "name": "stdout",
     "output_type": "stream",
     "text": [
      "Items in the shopping cart:\n",
      "Item 1\n",
      "Item 2\n",
      "Item 3\n",
      "Items in the shopping cart:\n",
      "Item 1\n",
      "Item 3\n",
      "The shopping cart is empty.\n"
     ]
    }
   ],
   "source": [
    "class ShoppingCart:\n",
    "    def __init__(self):\n",
    "        self.items = []\n",
    "\n",
    "    def add_item(self, item):\n",
    "        self.items.append(item)\n",
    "\n",
    "    def remove_item(self, item):\n",
    "        if item in self.items:\n",
    "            self.items.remove(item)\n",
    "        else:\n",
    "            print(f\"{item} is not in the shopping cart.\")\n",
    "\n",
    "    def view_cart(self):\n",
    "        if self.items:\n",
    "            print(\"Items in the shopping cart:\")\n",
    "            for item in self.items:\n",
    "                print(item)\n",
    "        else:\n",
    "            print(\"The shopping cart is empty.\")\n",
    "\n",
    "    def clear_cart(self):\n",
    "        self.items = []\n",
    "\n",
    "# Create an instance of the ShoppingCart class\n",
    "cart = ShoppingCart()\n",
    "\n",
    "# Add items to the shopping cart\n",
    "cart.add_item(\"Item 1\")\n",
    "cart.add_item(\"Item 2\")\n",
    "cart.add_item(\"Item 3\")\n",
    "\n",
    "# View the items in the shopping cart\n",
    "cart.view_cart()\n",
    "# Output:\n",
    "# Items in the shopping cart:\n",
    "# Item 1\n",
    "# Item 2\n",
    "# Item 3\n",
    "\n",
    "# Remove an item from the shopping cart\n",
    "cart.remove_item(\"Item 2\")\n",
    "\n",
    "# View the items in the shopping cart after removal\n",
    "cart.view_cart()\n",
    "# Output:\n",
    "# Items in the shopping cart:\n",
    "# Item 1\n",
    "# Item 3\n",
    "\n",
    "# Clear the shopping cart\n",
    "cart.clear_cart()\n",
    "\n",
    "# View the items in the shopping cart after clearing\n",
    "cart.view_cart()\n",
    "# Output:\n",
    "# The shopping cart is empty.\n",
    "\n",
    "        "
   ]
  },
  {
   "cell_type": "code",
   "execution_count": null,
   "id": "ba08bb0c",
   "metadata": {},
   "outputs": [],
   "source": []
  },
  {
   "cell_type": "code",
   "execution_count": null,
   "id": "3b74ea95",
   "metadata": {},
   "outputs": [],
   "source": [
    "#10.Imagine a school management system. You have to design the \"Student\" class using\n",
    "OOP concepts.The “Student” class has the following attributes:\n",
    "a. name: Represents the name of the student.\n",
    "b. age: Represents the age of the student.\n",
    "c. grade: Represents the grade or class of the student.\n",
    "d. student_id: Represents the unique identifier for the student.\n",
    "e. attendance: Represents the attendance record of the student.\n",
    "The class should also include the following methods:\n",
    "a. update_attendance(self, date, status): Updates the attendance record of the\n",
    "student for a given date with the provided status (e.g., present or absent).\n",
    "b. get_attendance(self): Returns the attendance record of the student.\n",
    "c. get_average_attendance(self): Calculates and returns the average\n",
    "attendance percentage of the student based on their attendance recor"
   ]
  },
  {
   "cell_type": "code",
   "execution_count": 60,
   "id": "b8582fe9",
   "metadata": {},
   "outputs": [
    {
     "name": "stdout",
     "output_type": "stream",
     "text": [
      "Student is present on 7/9/2023\n"
     ]
    }
   ],
   "source": [
    "class Student:\n",
    "    def __init__(self,name,age,grade,student_id,attendance):\n",
    "        self.name=name\n",
    "        self.age=age\n",
    "        self.grade=grade\n",
    "        self.student_id=student_id\n",
    "        self.attendance=attendance\n",
    "    \n",
    "    def update_attendance(self,date,status):\n",
    "        self.date=date\n",
    "        self.status=status\n",
    "        if(status==\"present\"):\n",
    "            print(f\"Student is {self.status} on {self.date}\")\n",
    "        else:\n",
    "            print(f\"Student is {self.status} on {self.date}\")\n",
    "student=Student(\"muni\",21,\"x\",1234,\"present\")\n",
    "student.update_attendance(\"7/9/2023\",\"present\")"
   ]
  },
  {
   "cell_type": "code",
   "execution_count": null,
   "id": "30500c97",
   "metadata": {},
   "outputs": [],
   "source": []
  }
 ],
 "metadata": {
  "kernelspec": {
   "display_name": "Python 3 (ipykernel)",
   "language": "python",
   "name": "python3"
  },
  "language_info": {
   "codemirror_mode": {
    "name": "ipython",
    "version": 3
   },
   "file_extension": ".py",
   "mimetype": "text/x-python",
   "name": "python",
   "nbconvert_exporter": "python",
   "pygments_lexer": "ipython3",
   "version": "3.10.9"
  }
 },
 "nbformat": 4,
 "nbformat_minor": 5
}
