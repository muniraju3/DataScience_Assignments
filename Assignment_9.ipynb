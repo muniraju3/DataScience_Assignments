{
 "cells": [
  {
   "cell_type": "code",
   "execution_count": null,
   "id": "315ef6a0",
   "metadata": {},
   "outputs": [],
   "source": [
    "1.What is a lambda function in Python, and how does it differ from a regular function?"
   ]
  },
  {
   "cell_type": "code",
   "execution_count": null,
   "id": "c096e689",
   "metadata": {},
   "outputs": [],
   "source": [
    "In Python, a lambda function is a small anonymous function that can be defined without a name. It is also known as an \"anonymous function\" because it doesn't require a def statement to define it. Instead, it uses the lambda keyword.\n",
    "\n",
    "Here's the general syntax of a lambda function:\n",
    "\n",
    "python\n",
    "Copy code\n",
    "lambda arguments: expression\n",
    "The arguments are the input parameters of the function, and the expression is the computation or operation that is performed on the input parameters. The lambda function returns the result of this expression.\n",
    "\n",
    "Here's an example of a lambda function that adds two numbers:\n",
    "\n",
    "python\n",
    "Copy code\n",
    "add = lambda x, y: x + y\n",
    "This lambda function takes two arguments x and y and returns their sum.\n",
    "\n",
    "One of the key differences between lambda functions and regular functions is that lambda functions are anonymous and don't have a name. They are typically used when you need a simple function for a short period of time and don't want to define a named function explicitly.\n",
    "\n",
    "Lambda functions are often used in functional programming paradigms and are commonly used with functions like map(), filter(), and reduce(). These functions take a lambda function as an argument to perform operations on lists, sequences, or other iterable objects.\n",
    "\n",
    "Here's an example that uses the map() function with a lambda function to square a list of numbers:\n",
    "\n",
    "python\n",
    "Copy code\n",
    "numbers = [1, 2, 3, 4, 5]\n",
    "squared = map(lambda x: x ** 2, numbers)\n",
    "In this example, the lambda function lambda x: x ** 2 is applied to each element of the numbers list, resulting in a new list squared with the squared values.\n",
    "\n",
    "Although lambda functions are useful for short and simple operations, they have some limitations. They can only contain a single expression, so they are not suitable for complex logic or multiple lines of code. In such cases, it's more appropriate to use a regular named function defined with the def keyword.\n",
    "\n"
   ]
  },
  {
   "cell_type": "code",
   "execution_count": null,
   "id": "ccdf676d",
   "metadata": {},
   "outputs": [],
   "source": []
  },
  {
   "cell_type": "code",
   "execution_count": null,
   "id": "745e059a",
   "metadata": {},
   "outputs": [],
   "source": [
    "2. Can a lambda function in Python have multiple arguments? If yes, how can you define and use\n",
    "them?"
   ]
  },
  {
   "cell_type": "code",
   "execution_count": null,
   "id": "3c707bd7",
   "metadata": {},
   "outputs": [],
   "source": [
    "Yes, a lambda function in Python can have multiple arguments. You can define multiple arguments in a lambda function by separating them with commas, just like in a regular function. Here's the syntax:\n",
    "\n",
    "python\n",
    "Copy code\n",
    "lambda argument1, argument2, ...: expression\n",
    "Here's an example of a lambda function with multiple arguments that multiplies two numbers:\n",
    "\n",
    "python\n",
    "Copy code\n",
    "multiply = lambda x, y: x * y\n",
    "In this example, the lambda function lambda x, y: x * y takes two arguments x and y and returns their product.\n",
    "\n",
    "To use a lambda function with multiple arguments, you can call it just like any other function and pass the corresponding arguments. Here's an example:\n",
    "\n",
    "python\n",
    "Copy code\n",
    "result = multiply(3, 4)\n",
    "print(result)  # Output: 12\n",
    "In this example, the lambda function multiply is called with arguments 3 and 4, and the result is assigned to the variable result. The output will be 12 because 3 * 4 equals 12.\n",
    "\n",
    "Lambda functions with multiple arguments are commonly used in conjunction with functions like map(), filter(), and reduce(). These functions can take lambda functions with multiple arguments to perform operations on iterable objects.\n",
    "\n",
    "Here's an example that uses the map() function with a lambda function with multiple arguments to calculate the squares of numbers:\n",
    "\n",
    "python\n",
    "Copy code\n",
    "numbers = [1, 2, 3, 4, 5]\n",
    "squared = map(lambda x, y: x ** y, numbers, [2] * len(numbers))\n",
    "In this example, the lambda function lambda x, y: x ** y takes two arguments x and y and calculates x raised to the power of y. The map() function applies this lambda function to each element of the numbers list and the corresponding power of 2. The result is a new list squared with the squared values.\n",
    "\n",
    "Remember that lambda functions are limited to a single expression, so if you need to perform complex logic or multiple lines of code, it's better to use a regular named function defined with the def keyword."
   ]
  },
  {
   "cell_type": "code",
   "execution_count": null,
   "id": "6dee4a9d",
   "metadata": {},
   "outputs": [],
   "source": []
  },
  {
   "cell_type": "code",
   "execution_count": null,
   "id": "85b3a668",
   "metadata": {},
   "outputs": [],
   "source": [
    "3.How are lambda functions typically used in Python? Provide an example use case"
   ]
  },
  {
   "cell_type": "code",
   "execution_count": null,
   "id": "bccf2df7",
   "metadata": {},
   "outputs": [],
   "source": [
    "\n",
    "Lambda functions in Python are typically used in situations where a small, anonymous function is needed for a short period of time. They are commonly used in functional programming paradigms and with functions that accept other functions as arguments. Here's an example use case:\n",
    "\n",
    "Sorting a list of tuples based on a specific element:\n",
    "python\n",
    "Copy code\n",
    "students = [('Alice', 19), ('Bob', 21), ('Charlie', 18), ('David', 20)]\n",
    "students.sort(key=lambda x: x[1])\n",
    "In this example, the sort() method is used to sort the list of tuples students based on the second element of each tuple, which represents the age. The lambda function lambda x: x[1] is used as the key argument, indicating that the sorting should be based on the second element of each tuple.\n",
    "\n",
    "Filtering a list based on a condition:\n",
    "python\n",
    "Copy code\n",
    "numbers = [1, 2, 3, 4, 5, 6, 7, 8, 9, 10]\n",
    "even_numbers = list(filter(lambda x: x % 2 == 0, numbers))\n",
    "In this example, the filter() function is used to create a new list even_numbers that contains only the even numbers from the original list numbers. The lambda function lambda x: x % 2 == 0 is used as the filtering condition, selecting only the elements that are divisible by 2 without a remainder.\n",
    "\n",
    "Mapping a function to a list:\n",
    "python\n",
    "Copy code\n",
    "numbers = [1, 2, 3, 4, 5]\n",
    "squared_numbers = list(map(lambda x: x ** 2, numbers))\n",
    "In this example, the map() function is used to apply the lambda function lambda x: x ** 2 to each element of the list numbers, resulting in a new list squared_numbers with the squared values.\n",
    "\n",
    "Lambda functions are also commonly used when a function needs to be passed as an argument to another function for a specific operation. They provide a concise way to define these small, one-time use functions without the need for explicitly defining a named function."
   ]
  },
  {
   "cell_type": "code",
   "execution_count": null,
   "id": "16844e35",
   "metadata": {},
   "outputs": [],
   "source": []
  },
  {
   "cell_type": "code",
   "execution_count": null,
   "id": "85e38bbd",
   "metadata": {},
   "outputs": [],
   "source": [
    "4. What are the advantages and limitations of lambda functions compared to regular functions in\n",
    "Python?"
   ]
  },
  {
   "cell_type": "code",
   "execution_count": null,
   "id": "0b7e1ed0",
   "metadata": {},
   "outputs": [],
   "source": [
    "Lambda functions in Python have several advantages and limitations compared to regular functions:\n",
    "\n",
    "Advantages of lambda functions:\n",
    "\n",
    "Concise syntax: Lambda functions allow you to define small, anonymous functions in a compact and readable manner. They are often used for simple operations that don't require complex logic or multiple lines of code.\n",
    "No need for a separate def statement: Lambda functions don't require a separate def statement to define them. This makes them convenient for one-time or short-term use without cluttering the code with unnecessary function definitions.\n",
    "Inline usage: Lambda functions can be used directly inline with other code, especially when working with functions that accept other functions as arguments. This can lead to more expressive and readable code.\n",
    "Limitations of lambda functions:\n",
    "\n",
    "Single expression: Lambda functions are limited to a single expression. They cannot contain multiple statements or complex logic. If you need to perform more complex operations or include multiple lines of code, it's better to use a regular named function.\n",
    "No statements allowed: Lambda functions can only contain expressions, not statements like assignments or print statements. They are designed to be simple, self-contained, and focused on computation or transformation.\n",
    "Lack of name: Lambda functions are anonymous and do not have a name. This can make it harder to debug or read the code when the function becomes more complex or needs to be referenced in multiple places.\n",
    "Limited reusability: Lambda functions are typically used for short-term or one-time operations. They are not designed for reuse in multiple places or as part of larger, more complex code structures. In such cases, regular functions are more appropriate.\n",
    "In summary, lambda functions offer a concise and convenient way to define small, anonymous functions for simple operations. They excel in situations where a function is needed for a short period of time or as an argument to other functions. However, they have limitations in terms of complexity, reusability, and readability compared to regular functions defined with the def keyword."
   ]
  },
  {
   "cell_type": "code",
   "execution_count": null,
   "id": "1fd9be86",
   "metadata": {},
   "outputs": [],
   "source": []
  },
  {
   "cell_type": "code",
   "execution_count": null,
   "id": "4697dcc2",
   "metadata": {},
   "outputs": [],
   "source": [
    "5. Are lambda functions in Python able to access variables defined outside of their own scope?\n",
    "Explain with an example.\n"
   ]
  },
  {
   "cell_type": "code",
   "execution_count": null,
   "id": "ffb53282",
   "metadata": {},
   "outputs": [],
   "source": [
    "Yes, lambda functions in Python can access variables defined outside of their own scope. This is because lambda functions have access to the variables in the enclosing scope, just like regular functions defined with the def keyword. This behavior is known as \"lexical scoping\" or \"closure.\"\n",
    "\n",
    "Here's an example to demonstrate this:\n",
    "\n",
    "python\n",
    "Copy code\n",
    "def outer_function(x):\n",
    "    y = 10\n",
    "\n",
    "    # Define a lambda function that uses variables from the outer scope\n",
    "    lambda_func = lambda z: x + y + z\n",
    "\n",
    "    # Call the lambda function\n",
    "    result = lambda_func(5)\n",
    "    return result\n",
    "\n",
    "# Call the outer function\n",
    "output = outer_function(20)\n",
    "print(output)  # Output: 35\n",
    "In the example above, the outer_function defines two variables: x and y. Inside the outer_function, a lambda function named lambda_func is defined. This lambda function takes an argument z and uses the variables x and y from the outer scope. When lambda_func is called with the argument 5, it returns the sum of x, y, and z.\n",
    "\n",
    "When we call outer_function(20), the lambda function is executed, and it correctly accesses and uses the values of x and y defined in the outer scope. The result is 35, which is the sum of 20, 10, and 5.\n",
    "\n",
    "So, lambda functions can access variables from the enclosing scope, allowing for more flexible and concise code when working with functions that require access to external values."
   ]
  },
  {
   "cell_type": "code",
   "execution_count": null,
   "id": "cd3ad21b",
   "metadata": {},
   "outputs": [],
   "source": []
  },
  {
   "cell_type": "code",
   "execution_count": null,
   "id": "f512aa4a",
   "metadata": {},
   "outputs": [],
   "source": [
    "6. Write a lambda function to calculate the square of a given number.\n"
   ]
  },
  {
   "cell_type": "code",
   "execution_count": 7,
   "id": "29002f34",
   "metadata": {},
   "outputs": [
    {
     "data": {
      "text/plain": [
       "25"
      ]
     },
     "execution_count": 7,
     "metadata": {},
     "output_type": "execute_result"
    }
   ],
   "source": [
    "square=lambda x:x**2\n",
    "a=square(5)\n",
    "a"
   ]
  },
  {
   "cell_type": "code",
   "execution_count": null,
   "id": "336d446d",
   "metadata": {},
   "outputs": [],
   "source": [
    "7.Create a lambda function to find the maximum value in a list of integers."
   ]
  },
  {
   "cell_type": "code",
   "execution_count": 5,
   "id": "e281cd5a",
   "metadata": {},
   "outputs": [
    {
     "name": "stdout",
     "output_type": "stream",
     "text": [
      "100\n"
     ]
    }
   ],
   "source": [
    "lst=[1,4,7,100,8,9]\n",
    "find_max= lambda a:max(a)\n",
    "result=find_max(lst)\n",
    "print(result)\n"
   ]
  },
  {
   "cell_type": "code",
   "execution_count": null,
   "id": "f34dba0c",
   "metadata": {},
   "outputs": [],
   "source": []
  },
  {
   "cell_type": "code",
   "execution_count": null,
   "id": "50246936",
   "metadata": {},
   "outputs": [],
   "source": [
    "8.Implement a lambda function to filter out all the even numbers from a list of integers.\n"
   ]
  },
  {
   "cell_type": "code",
   "execution_count": 12,
   "id": "0933edad",
   "metadata": {},
   "outputs": [
    {
     "name": "stdout",
     "output_type": "stream",
     "text": [
      "[2, 4, 6, 8, 10]\n"
     ]
    }
   ],
   "source": [
    "filter_even = lambda lst: list(filter(lambda x: x % 2 == 0, lst))\n",
    "numbers = [1, 2, 3, 4, 5, 6, 7, 8, 9, 10]\n",
    "result = filter_even(numbers)\n",
    "print(result)  "
   ]
  },
  {
   "cell_type": "code",
   "execution_count": null,
   "id": "13d5d200",
   "metadata": {},
   "outputs": [],
   "source": []
  },
  {
   "cell_type": "code",
   "execution_count": null,
   "id": "86e8636a",
   "metadata": {},
   "outputs": [],
   "source": [
    "9.Write a lambda function to sort a list of strings in ascending order based on the length of each\n",
    "string.\n"
   ]
  },
  {
   "cell_type": "code",
   "execution_count": 13,
   "id": "e7419dab",
   "metadata": {},
   "outputs": [
    {
     "name": "stdout",
     "output_type": "stream",
     "text": [
      "['date', 'apple', 'banana', 'cherry', 'elderberry']\n"
     ]
    }
   ],
   "source": [
    "sort_by_length = lambda lst: sorted(lst, key=lambda x: len(x))\n",
    "strings = ['apple', 'banana', 'cherry', 'date', 'elderberry']\n",
    "result = sort_by_length(strings)\n",
    "print(result)  "
   ]
  },
  {
   "cell_type": "code",
   "execution_count": null,
   "id": "3e27afa4",
   "metadata": {},
   "outputs": [],
   "source": []
  },
  {
   "cell_type": "code",
   "execution_count": null,
   "id": "90979b1d",
   "metadata": {},
   "outputs": [],
   "source": [
    "10.Create a lambda function that takes two lists as input and returns a new list containing the\n",
    "common elements between the two lists."
   ]
  },
  {
   "cell_type": "code",
   "execution_count": 14,
   "id": "e098070f",
   "metadata": {},
   "outputs": [
    {
     "name": "stdout",
     "output_type": "stream",
     "text": [
      "[4, 5]\n"
     ]
    }
   ],
   "source": [
    "find_common_elements = lambda lst1, lst2: list(filter(lambda x: x in lst2, lst1))\n",
    "list1 = [1, 2, 3, 4, 5]\n",
    "list2 = [4, 5, 6, 7, 8]\n",
    "result = find_common_elements(list1, list2)\n",
    "print(result)"
   ]
  },
  {
   "cell_type": "code",
   "execution_count": null,
   "id": "b7fd343c",
   "metadata": {},
   "outputs": [],
   "source": []
  },
  {
   "cell_type": "code",
   "execution_count": null,
   "id": "1ffff8f7",
   "metadata": {},
   "outputs": [],
   "source": [
    "11.Write a recursive function to calculate the factorial of a given positive integer"
   ]
  },
  {
   "cell_type": "code",
   "execution_count": 19,
   "id": "6571ce8d",
   "metadata": {},
   "outputs": [
    {
     "data": {
      "text/plain": [
       "3628800"
      ]
     },
     "execution_count": 19,
     "metadata": {},
     "output_type": "execute_result"
    }
   ],
   "source": [
    "def factorial(n):\n",
    "    if(n==0):\n",
    "        return 1\n",
    "    else:\n",
    "        return n*factorial(n-1)\n",
    "result=factorial(10)\n",
    "result\n",
    "    \n",
    "\n"
   ]
  },
  {
   "cell_type": "code",
   "execution_count": null,
   "id": "146e718e",
   "metadata": {},
   "outputs": [],
   "source": []
  },
  {
   "cell_type": "code",
   "execution_count": null,
   "id": "02b867e3",
   "metadata": {},
   "outputs": [],
   "source": [
    "12. Implement a recursive function to compute the nth Fibonacci number.\n"
   ]
  },
  {
   "cell_type": "code",
   "execution_count": 21,
   "id": "d6c5c3b0",
   "metadata": {},
   "outputs": [
    {
     "name": "stdout",
     "output_type": "stream",
     "text": [
      "55\n"
     ]
    }
   ],
   "source": [
    "def fibonacci(n):\n",
    "    if n <= 0:\n",
    "        return None\n",
    "    elif n == 1 or n == 2:\n",
    "        return 1\n",
    "    else:\n",
    "        return fibonacci(n - 1) + fibonacci(n - 2)\n",
    "result = fibonacci(10)\n",
    "print(result) "
   ]
  },
  {
   "cell_type": "code",
   "execution_count": null,
   "id": "7fa999f5",
   "metadata": {},
   "outputs": [],
   "source": []
  },
  {
   "cell_type": "code",
   "execution_count": null,
   "id": "d381e0e8",
   "metadata": {},
   "outputs": [],
   "source": [
    "13.Create a recursive function to find the sum of all the elements in a given list.\n"
   ]
  },
  {
   "cell_type": "code",
   "execution_count": 1,
   "id": "a185b601",
   "metadata": {},
   "outputs": [
    {
     "name": "stdout",
     "output_type": "stream",
     "text": [
      "15\n"
     ]
    }
   ],
   "source": [
    "def sum_list_recursive(lst):\n",
    "    if not lst:\n",
    "        return 0\n",
    "    else:\n",
    "        return lst[0] + sum_list_recursive(lst[1:])\n",
    "numbers = [1, 2, 3, 4, 5]\n",
    "result = sum_list_recursive(numbers)\n",
    "print(result)  \n"
   ]
  },
  {
   "cell_type": "code",
   "execution_count": null,
   "id": "45e74ec3",
   "metadata": {},
   "outputs": [],
   "source": []
  },
  {
   "cell_type": "code",
   "execution_count": null,
   "id": "88260df0",
   "metadata": {},
   "outputs": [],
   "source": [
    "14. Write a recursive function to determine whether a given string is a palindrome.\n"
   ]
  },
  {
   "cell_type": "code",
   "execution_count": 2,
   "id": "6401ab76",
   "metadata": {},
   "outputs": [
    {
     "name": "stdout",
     "output_type": "stream",
     "text": [
      "True\n",
      "False\n"
     ]
    }
   ],
   "source": [
    "def is_palindrome_recursive(s):\n",
    "    if len(s) <= 1:\n",
    "        return True\n",
    "    elif s[0] == s[-1]:\n",
    "        return is_palindrome_recursive(s[1:-1])\n",
    "    else:\n",
    "        return False\n",
    "    \n",
    "string1 = \"radar\"\n",
    "result1 = is_palindrome_recursive(string1)\n",
    "print(result1)  # Output: True\n",
    "\n",
    "string2 = \"hello\"\n",
    "result2 = is_palindrome_recursive(string2)\n",
    "print(result2)  # Output: False\n"
   ]
  },
  {
   "cell_type": "code",
   "execution_count": null,
   "id": "e5e540fe",
   "metadata": {},
   "outputs": [],
   "source": []
  },
  {
   "cell_type": "code",
   "execution_count": null,
   "id": "c51e10aa",
   "metadata": {},
   "outputs": [],
   "source": [
    "15. Implement a recursive function to find the greatest common divisor (GCD) of two positive integers"
   ]
  },
  {
   "cell_type": "code",
   "execution_count": 3,
   "id": "606de91d",
   "metadata": {},
   "outputs": [
    {
     "name": "stdout",
     "output_type": "stream",
     "text": [
      "12\n"
     ]
    }
   ],
   "source": [
    "def gcd_recursive(a, b):\n",
    "    if b == 0:\n",
    "        return a\n",
    "    else:\n",
    "        return gcd_recursive(b, a % b)\n",
    "result = gcd_recursive(36, 48)\n",
    "print(result) \n"
   ]
  },
  {
   "cell_type": "code",
   "execution_count": null,
   "id": "08468dfc",
   "metadata": {},
   "outputs": [],
   "source": []
  }
 ],
 "metadata": {
  "kernelspec": {
   "display_name": "Python 3 (ipykernel)",
   "language": "python",
   "name": "python3"
  },
  "language_info": {
   "codemirror_mode": {
    "name": "ipython",
    "version": 3
   },
   "file_extension": ".py",
   "mimetype": "text/x-python",
   "name": "python",
   "nbconvert_exporter": "python",
   "pygments_lexer": "ipython3",
   "version": "3.10.9"
  }
 },
 "nbformat": 4,
 "nbformat_minor": 5
}
